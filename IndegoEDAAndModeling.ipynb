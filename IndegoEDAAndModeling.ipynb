{
 "cells": [
  {
   "cell_type": "markdown",
   "metadata": {},
   "source": [
    "# Loading PICKLED Files"
   ]
  },
  {
   "cell_type": "code",
   "execution_count": 1,
   "metadata": {},
   "outputs": [],
   "source": [
    "# load in all of the libraries we'll be using for our analysis and set our random seed for reproduceability \n",
    "\n",
    "from datetime import datetime as dt \n",
    "import pandas as pd\n",
    "import numpy as np\n",
    "from sklearn import linear_model\n",
    "from sklearn.preprocessing import scale\n",
    "from sklearn.model_selection import cross_validate\n",
    "from sklearn.model_selection import train_test_split\n",
    "from sklearn.metrics import mean_squared_error as MSE\n",
    "import matplotlib.pyplot as plt\n",
    "import holidays\n",
    "\n",
    "np.random.seed(17)"
   ]
  },
  {
   "cell_type": "code",
   "execution_count": 3,
   "metadata": {},
   "outputs": [],
   "source": [
    "# read in our pickled dataframes created in the previous script \n",
    "\n",
    "import pickle\n",
    "\n",
    "pickle_off = open(\"Weather.pickle\",\"rb\")\n",
    "PhillyWeatherPickle = pickle.load(pickle_off)"
   ]
  },
  {
   "cell_type": "code",
   "execution_count": 4,
   "metadata": {},
   "outputs": [
    {
     "data": {
      "text/html": [
       "<div>\n",
       "<style scoped>\n",
       "    .dataframe tbody tr th:only-of-type {\n",
       "        vertical-align: middle;\n",
       "    }\n",
       "\n",
       "    .dataframe tbody tr th {\n",
       "        vertical-align: top;\n",
       "    }\n",
       "\n",
       "    .dataframe thead th {\n",
       "        text-align: right;\n",
       "    }\n",
       "</style>\n",
       "<table border=\"1\" class=\"dataframe\">\n",
       "  <thead>\n",
       "    <tr style=\"text-align: right;\">\n",
       "      <th></th>\n",
       "      <th>Date</th>\n",
       "      <th>temperature</th>\n",
       "      <th>precip_intensity</th>\n",
       "      <th>precip_probability</th>\n",
       "      <th>wind_speed</th>\n",
       "      <th>humidity</th>\n",
       "      <th>mean_temperature</th>\n",
       "      <th>temperature6am</th>\n",
       "      <th>temperatureNoon</th>\n",
       "      <th>temperature6pm</th>\n",
       "      <th>...</th>\n",
       "      <th>summary_Possible Drizzle and Humid</th>\n",
       "      <th>summary_Possible Flurries</th>\n",
       "      <th>summary_Possible Light Rain</th>\n",
       "      <th>summary_Possible Light Rain and Humid</th>\n",
       "      <th>summary_Possible Light Snow</th>\n",
       "      <th>summary_Rain</th>\n",
       "      <th>summary_Rain and Humid</th>\n",
       "      <th>summary_Rain and Windy</th>\n",
       "      <th>summary_Snow</th>\n",
       "      <th>summary_Windy</th>\n",
       "    </tr>\n",
       "  </thead>\n",
       "  <tbody>\n",
       "    <tr>\n",
       "      <th>0</th>\n",
       "      <td>2018-10-01</td>\n",
       "      <td>63.2</td>\n",
       "      <td>0</td>\n",
       "      <td>0</td>\n",
       "      <td>1.59</td>\n",
       "      <td>0.81</td>\n",
       "      <td>70.4629</td>\n",
       "      <td>61.41</td>\n",
       "      <td>76.3</td>\n",
       "      <td>79.39</td>\n",
       "      <td>...</td>\n",
       "      <td>0</td>\n",
       "      <td>0</td>\n",
       "      <td>0</td>\n",
       "      <td>0</td>\n",
       "      <td>0</td>\n",
       "      <td>0</td>\n",
       "      <td>0</td>\n",
       "      <td>0</td>\n",
       "      <td>0</td>\n",
       "      <td>0</td>\n",
       "    </tr>\n",
       "    <tr>\n",
       "      <th>1</th>\n",
       "      <td>2018-10-02</td>\n",
       "      <td>68.41</td>\n",
       "      <td>0</td>\n",
       "      <td>0</td>\n",
       "      <td>2.32</td>\n",
       "      <td>0.92</td>\n",
       "      <td>70.3371</td>\n",
       "      <td>66.77</td>\n",
       "      <td>78.05</td>\n",
       "      <td>80.33</td>\n",
       "      <td>...</td>\n",
       "      <td>0</td>\n",
       "      <td>0</td>\n",
       "      <td>0</td>\n",
       "      <td>0</td>\n",
       "      <td>0</td>\n",
       "      <td>0</td>\n",
       "      <td>0</td>\n",
       "      <td>0</td>\n",
       "      <td>0</td>\n",
       "      <td>0</td>\n",
       "    </tr>\n",
       "    <tr>\n",
       "      <th>2</th>\n",
       "      <td>2018-10-03</td>\n",
       "      <td>65.33</td>\n",
       "      <td>0.0686</td>\n",
       "      <td>0.92</td>\n",
       "      <td>3.72</td>\n",
       "      <td>0.97</td>\n",
       "      <td>69.0888</td>\n",
       "      <td>64.79</td>\n",
       "      <td>71.29</td>\n",
       "      <td>77.14</td>\n",
       "      <td>...</td>\n",
       "      <td>0</td>\n",
       "      <td>0</td>\n",
       "      <td>0</td>\n",
       "      <td>0</td>\n",
       "      <td>0</td>\n",
       "      <td>1</td>\n",
       "      <td>0</td>\n",
       "      <td>0</td>\n",
       "      <td>0</td>\n",
       "      <td>0</td>\n",
       "    </tr>\n",
       "    <tr>\n",
       "      <th>3</th>\n",
       "      <td>2018-10-04</td>\n",
       "      <td>65.01</td>\n",
       "      <td>0</td>\n",
       "      <td>0</td>\n",
       "      <td>1.79</td>\n",
       "      <td>0.77</td>\n",
       "      <td>71.2529</td>\n",
       "      <td>62.8</td>\n",
       "      <td>72.78</td>\n",
       "      <td>82.43</td>\n",
       "      <td>...</td>\n",
       "      <td>0</td>\n",
       "      <td>0</td>\n",
       "      <td>0</td>\n",
       "      <td>0</td>\n",
       "      <td>0</td>\n",
       "      <td>0</td>\n",
       "      <td>0</td>\n",
       "      <td>0</td>\n",
       "      <td>0</td>\n",
       "      <td>0</td>\n",
       "    </tr>\n",
       "    <tr>\n",
       "      <th>4</th>\n",
       "      <td>2018-10-05</td>\n",
       "      <td>73.57</td>\n",
       "      <td>0.0002</td>\n",
       "      <td>0.02</td>\n",
       "      <td>2.6</td>\n",
       "      <td>0.9</td>\n",
       "      <td>66.0721</td>\n",
       "      <td>64.93</td>\n",
       "      <td>63.89</td>\n",
       "      <td>67.52</td>\n",
       "      <td>...</td>\n",
       "      <td>0</td>\n",
       "      <td>0</td>\n",
       "      <td>0</td>\n",
       "      <td>0</td>\n",
       "      <td>0</td>\n",
       "      <td>0</td>\n",
       "      <td>0</td>\n",
       "      <td>0</td>\n",
       "      <td>0</td>\n",
       "      <td>0</td>\n",
       "    </tr>\n",
       "  </tbody>\n",
       "</table>\n",
       "<p>5 rows × 43 columns</p>\n",
       "</div>"
      ],
      "text/plain": [
       "        Date temperature precip_intensity precip_probability wind_speed  \\\n",
       "0 2018-10-01        63.2                0                  0       1.59   \n",
       "1 2018-10-02       68.41                0                  0       2.32   \n",
       "2 2018-10-03       65.33           0.0686               0.92       3.72   \n",
       "3 2018-10-04       65.01                0                  0       1.79   \n",
       "4 2018-10-05       73.57           0.0002               0.02        2.6   \n",
       "\n",
       "  humidity mean_temperature temperature6am temperatureNoon temperature6pm  \\\n",
       "0     0.81          70.4629          61.41            76.3          79.39   \n",
       "1     0.92          70.3371          66.77           78.05          80.33   \n",
       "2     0.97          69.0888          64.79           71.29          77.14   \n",
       "3     0.77          71.2529           62.8           72.78          82.43   \n",
       "4      0.9          66.0721          64.93           63.89          67.52   \n",
       "\n",
       "   ... summary_Possible Drizzle and Humid summary_Possible Flurries  \\\n",
       "0  ...                                  0                         0   \n",
       "1  ...                                  0                         0   \n",
       "2  ...                                  0                         0   \n",
       "3  ...                                  0                         0   \n",
       "4  ...                                  0                         0   \n",
       "\n",
       "  summary_Possible Light Rain summary_Possible Light Rain and Humid  \\\n",
       "0                           0                                     0   \n",
       "1                           0                                     0   \n",
       "2                           0                                     0   \n",
       "3                           0                                     0   \n",
       "4                           0                                     0   \n",
       "\n",
       "   summary_Possible Light Snow  summary_Rain  summary_Rain and Humid  \\\n",
       "0                            0             0                       0   \n",
       "1                            0             0                       0   \n",
       "2                            0             1                       0   \n",
       "3                            0             0                       0   \n",
       "4                            0             0                       0   \n",
       "\n",
       "   summary_Rain and Windy  summary_Snow  summary_Windy  \n",
       "0                       0             0              0  \n",
       "1                       0             0              0  \n",
       "2                       0             0              0  \n",
       "3                       0             0              0  \n",
       "4                       0             0              0  \n",
       "\n",
       "[5 rows x 43 columns]"
      ]
     },
     "execution_count": 4,
     "metadata": {},
     "output_type": "execute_result"
    }
   ],
   "source": [
    "PhillyWeatherPickle.head()"
   ]
  },
  {
   "cell_type": "code",
   "execution_count": 5,
   "metadata": {},
   "outputs": [
    {
     "name": "stdout",
     "output_type": "stream",
     "text": [
      "<class 'pandas.core.frame.DataFrame'>\n",
      "Int64Index: 1710 entries, 0 to 1711\n",
      "Data columns (total 43 columns):\n",
      "Date                                     1710 non-null datetime64[ns]\n",
      "temperature                              1710 non-null object\n",
      "precip_intensity                         1710 non-null object\n",
      "precip_probability                       1710 non-null object\n",
      "wind_speed                               1710 non-null object\n",
      "humidity                                 1710 non-null object\n",
      "mean_temperature                         1710 non-null object\n",
      "temperature6am                           1710 non-null object\n",
      "temperatureNoon                          1710 non-null object\n",
      "temperature6pm                           1710 non-null object\n",
      "mean_precip_chance                       1710 non-null object\n",
      "cumulative_rain                          1710 non-null object\n",
      "mean_wind_speed                          1710 non-null object\n",
      "mean_humidity                            1710 non-null object\n",
      "Year                                     1710 non-null int64\n",
      "Month                                    1710 non-null int64\n",
      "Day                                      1710 non-null int64\n",
      "summary_Clear                            1710 non-null uint8\n",
      "summary_Drizzle                          1710 non-null uint8\n",
      "summary_Foggy                            1710 non-null uint8\n",
      "summary_Heavy Rain                       1710 non-null uint8\n",
      "summary_Heavy Snow                       1710 non-null uint8\n",
      "summary_Humid                            1710 non-null uint8\n",
      "summary_Humid and Mostly Cloudy          1710 non-null uint8\n",
      "summary_Humid and Overcast               1710 non-null uint8\n",
      "summary_Humid and Partly Cloudy          1710 non-null uint8\n",
      "summary_Light Rain                       1710 non-null uint8\n",
      "summary_Light Rain and Humid             1710 non-null uint8\n",
      "summary_Light Snow                       1710 non-null uint8\n",
      "summary_Mostly Cloudy                    1710 non-null uint8\n",
      "summary_Overcast                         1710 non-null uint8\n",
      "summary_Partly Cloudy                    1710 non-null uint8\n",
      "summary_Possible Drizzle                 1710 non-null uint8\n",
      "summary_Possible Drizzle and Humid       1710 non-null uint8\n",
      "summary_Possible Flurries                1710 non-null uint8\n",
      "summary_Possible Light Rain              1710 non-null uint8\n",
      "summary_Possible Light Rain and Humid    1710 non-null uint8\n",
      "summary_Possible Light Snow              1710 non-null uint8\n",
      "summary_Rain                             1710 non-null uint8\n",
      "summary_Rain and Humid                   1710 non-null uint8\n",
      "summary_Rain and Windy                   1710 non-null uint8\n",
      "summary_Snow                             1710 non-null uint8\n",
      "summary_Windy                            1710 non-null uint8\n",
      "dtypes: datetime64[ns](1), int64(3), object(13), uint8(26)\n",
      "memory usage: 283.9+ KB\n"
     ]
    }
   ],
   "source": [
    "PhillyWeatherPickle.info()"
   ]
  },
  {
   "cell_type": "code",
   "execution_count": 7,
   "metadata": {},
   "outputs": [
    {
     "data": {
      "text/html": [
       "<div>\n",
       "<style scoped>\n",
       "    .dataframe tbody tr th:only-of-type {\n",
       "        vertical-align: middle;\n",
       "    }\n",
       "\n",
       "    .dataframe tbody tr th {\n",
       "        vertical-align: top;\n",
       "    }\n",
       "\n",
       "    .dataframe thead th {\n",
       "        text-align: right;\n",
       "    }\n",
       "</style>\n",
       "<table border=\"1\" class=\"dataframe\">\n",
       "  <thead>\n",
       "    <tr style=\"text-align: right;\">\n",
       "      <th></th>\n",
       "      <th>bike_id</th>\n",
       "      <th>bike_type</th>\n",
       "      <th>duration</th>\n",
       "      <th>end_lat</th>\n",
       "      <th>end_lon</th>\n",
       "      <th>end_station</th>\n",
       "      <th>end_station_id</th>\n",
       "      <th>end_time</th>\n",
       "      <th>passholder_type</th>\n",
       "      <th>plan_duration</th>\n",
       "      <th>...</th>\n",
       "      <th>start_lon</th>\n",
       "      <th>start_station</th>\n",
       "      <th>start_station_id</th>\n",
       "      <th>start_time</th>\n",
       "      <th>trip_id</th>\n",
       "      <th>trip_route_category</th>\n",
       "      <th>Date</th>\n",
       "      <th>Year</th>\n",
       "      <th>Month</th>\n",
       "      <th>Day</th>\n",
       "    </tr>\n",
       "  </thead>\n",
       "  <tbody>\n",
       "    <tr>\n",
       "      <th>0</th>\n",
       "      <td>11908</td>\n",
       "      <td>standard</td>\n",
       "      <td>30</td>\n",
       "      <td>39.93750</td>\n",
       "      <td>-75.1875</td>\n",
       "      <td>3063.0</td>\n",
       "      <td>NaN</td>\n",
       "      <td>2018-10-01 00:33:00</td>\n",
       "      <td>Indego30</td>\n",
       "      <td>30.0</td>\n",
       "      <td>...</td>\n",
       "      <td>-75.1875</td>\n",
       "      <td>3038.0</td>\n",
       "      <td>NaN</td>\n",
       "      <td>2018-10-01 00:03:00</td>\n",
       "      <td>299955254</td>\n",
       "      <td>One Way</td>\n",
       "      <td>2018-10-01</td>\n",
       "      <td>2018</td>\n",
       "      <td>10</td>\n",
       "      <td>0</td>\n",
       "    </tr>\n",
       "    <tr>\n",
       "      <th>1</th>\n",
       "      <td>05382</td>\n",
       "      <td>standard</td>\n",
       "      <td>7</td>\n",
       "      <td>39.93750</td>\n",
       "      <td>-75.1875</td>\n",
       "      <td>3064.0</td>\n",
       "      <td>NaN</td>\n",
       "      <td>2018-10-01 00:13:00</td>\n",
       "      <td>Indego30</td>\n",
       "      <td>30.0</td>\n",
       "      <td>...</td>\n",
       "      <td>-75.1875</td>\n",
       "      <td>3032.0</td>\n",
       "      <td>NaN</td>\n",
       "      <td>2018-10-01 00:06:00</td>\n",
       "      <td>299955253</td>\n",
       "      <td>One Way</td>\n",
       "      <td>2018-10-01</td>\n",
       "      <td>2018</td>\n",
       "      <td>10</td>\n",
       "      <td>0</td>\n",
       "    </tr>\n",
       "    <tr>\n",
       "      <th>2</th>\n",
       "      <td>11930</td>\n",
       "      <td>standard</td>\n",
       "      <td>6</td>\n",
       "      <td>39.93750</td>\n",
       "      <td>-75.1875</td>\n",
       "      <td>3064.0</td>\n",
       "      <td>NaN</td>\n",
       "      <td>2018-10-01 00:13:00</td>\n",
       "      <td>Indego30</td>\n",
       "      <td>30.0</td>\n",
       "      <td>...</td>\n",
       "      <td>-75.1875</td>\n",
       "      <td>3032.0</td>\n",
       "      <td>NaN</td>\n",
       "      <td>2018-10-01 00:07:00</td>\n",
       "      <td>299955252</td>\n",
       "      <td>One Way</td>\n",
       "      <td>2018-10-01</td>\n",
       "      <td>2018</td>\n",
       "      <td>10</td>\n",
       "      <td>0</td>\n",
       "    </tr>\n",
       "    <tr>\n",
       "      <th>3</th>\n",
       "      <td>05225</td>\n",
       "      <td>standard</td>\n",
       "      <td>6</td>\n",
       "      <td>39.93750</td>\n",
       "      <td>-75.1875</td>\n",
       "      <td>3007.0</td>\n",
       "      <td>NaN</td>\n",
       "      <td>2018-10-01 00:20:00</td>\n",
       "      <td>Indego30</td>\n",
       "      <td>30.0</td>\n",
       "      <td>...</td>\n",
       "      <td>-75.1875</td>\n",
       "      <td>3025.0</td>\n",
       "      <td>NaN</td>\n",
       "      <td>2018-10-01 00:14:00</td>\n",
       "      <td>299955251</td>\n",
       "      <td>One Way</td>\n",
       "      <td>2018-10-01</td>\n",
       "      <td>2018</td>\n",
       "      <td>10</td>\n",
       "      <td>0</td>\n",
       "    </tr>\n",
       "    <tr>\n",
       "      <th>4</th>\n",
       "      <td>03379</td>\n",
       "      <td>standard</td>\n",
       "      <td>6</td>\n",
       "      <td>39.96875</td>\n",
       "      <td>-75.1875</td>\n",
       "      <td>3035.0</td>\n",
       "      <td>NaN</td>\n",
       "      <td>2018-10-01 00:23:00</td>\n",
       "      <td>Indego30</td>\n",
       "      <td>30.0</td>\n",
       "      <td>...</td>\n",
       "      <td>-75.1875</td>\n",
       "      <td>3029.0</td>\n",
       "      <td>NaN</td>\n",
       "      <td>2018-10-01 00:17:00</td>\n",
       "      <td>299955250</td>\n",
       "      <td>One Way</td>\n",
       "      <td>2018-10-01</td>\n",
       "      <td>2018</td>\n",
       "      <td>10</td>\n",
       "      <td>0</td>\n",
       "    </tr>\n",
       "    <tr>\n",
       "      <th>...</th>\n",
       "      <td>...</td>\n",
       "      <td>...</td>\n",
       "      <td>...</td>\n",
       "      <td>...</td>\n",
       "      <td>...</td>\n",
       "      <td>...</td>\n",
       "      <td>...</td>\n",
       "      <td>...</td>\n",
       "      <td>...</td>\n",
       "      <td>...</td>\n",
       "      <td>...</td>\n",
       "      <td>...</td>\n",
       "      <td>...</td>\n",
       "      <td>...</td>\n",
       "      <td>...</td>\n",
       "      <td>...</td>\n",
       "      <td>...</td>\n",
       "      <td>...</td>\n",
       "      <td>...</td>\n",
       "      <td>...</td>\n",
       "      <td>...</td>\n",
       "    </tr>\n",
       "    <tr>\n",
       "      <th>119554</th>\n",
       "      <td>2523</td>\n",
       "      <td>NaN</td>\n",
       "      <td>480</td>\n",
       "      <td>39.93750</td>\n",
       "      <td>-75.1250</td>\n",
       "      <td>NaN</td>\n",
       "      <td>3028.0</td>\n",
       "      <td>2015-06-30 23:33:00</td>\n",
       "      <td>Indego30</td>\n",
       "      <td>30.0</td>\n",
       "      <td>...</td>\n",
       "      <td>-75.1250</td>\n",
       "      <td>NaN</td>\n",
       "      <td>3026.0</td>\n",
       "      <td>2015-06-30 23:25:00</td>\n",
       "      <td>4150090</td>\n",
       "      <td>One Way</td>\n",
       "      <td>2015-06-30</td>\n",
       "      <td>2015</td>\n",
       "      <td>6</td>\n",
       "      <td>1</td>\n",
       "    </tr>\n",
       "    <tr>\n",
       "      <th>119555</th>\n",
       "      <td>2629</td>\n",
       "      <td>NaN</td>\n",
       "      <td>960</td>\n",
       "      <td>39.93750</td>\n",
       "      <td>-75.1875</td>\n",
       "      <td>NaN</td>\n",
       "      <td>3025.0</td>\n",
       "      <td>2015-06-30 23:49:00</td>\n",
       "      <td>Indego30</td>\n",
       "      <td>30.0</td>\n",
       "      <td>...</td>\n",
       "      <td>-75.1875</td>\n",
       "      <td>NaN</td>\n",
       "      <td>3022.0</td>\n",
       "      <td>2015-06-30 23:33:00</td>\n",
       "      <td>4150097</td>\n",
       "      <td>One Way</td>\n",
       "      <td>2015-06-30</td>\n",
       "      <td>2015</td>\n",
       "      <td>6</td>\n",
       "      <td>1</td>\n",
       "    </tr>\n",
       "    <tr>\n",
       "      <th>119556</th>\n",
       "      <td>3689</td>\n",
       "      <td>NaN</td>\n",
       "      <td>420</td>\n",
       "      <td>39.93750</td>\n",
       "      <td>-75.1875</td>\n",
       "      <td>NaN</td>\n",
       "      <td>3045.0</td>\n",
       "      <td>2015-06-30 23:48:00</td>\n",
       "      <td>Indego30</td>\n",
       "      <td>30.0</td>\n",
       "      <td>...</td>\n",
       "      <td>-75.1875</td>\n",
       "      <td>NaN</td>\n",
       "      <td>3023.0</td>\n",
       "      <td>2015-06-30 23:41:00</td>\n",
       "      <td>4150099</td>\n",
       "      <td>One Way</td>\n",
       "      <td>2015-06-30</td>\n",
       "      <td>2015</td>\n",
       "      <td>6</td>\n",
       "      <td>1</td>\n",
       "    </tr>\n",
       "    <tr>\n",
       "      <th>119557</th>\n",
       "      <td>3709</td>\n",
       "      <td>NaN</td>\n",
       "      <td>480</td>\n",
       "      <td>39.93750</td>\n",
       "      <td>-75.1875</td>\n",
       "      <td>NaN</td>\n",
       "      <td>3045.0</td>\n",
       "      <td>2015-06-30 23:56:00</td>\n",
       "      <td>Indego30</td>\n",
       "      <td>30.0</td>\n",
       "      <td>...</td>\n",
       "      <td>-75.1250</td>\n",
       "      <td>NaN</td>\n",
       "      <td>3026.0</td>\n",
       "      <td>2015-06-30 23:48:00</td>\n",
       "      <td>4150100</td>\n",
       "      <td>One Way</td>\n",
       "      <td>2015-06-30</td>\n",
       "      <td>2015</td>\n",
       "      <td>6</td>\n",
       "      <td>1</td>\n",
       "    </tr>\n",
       "    <tr>\n",
       "      <th>119558</th>\n",
       "      <td>3701</td>\n",
       "      <td>NaN</td>\n",
       "      <td>240</td>\n",
       "      <td>39.93750</td>\n",
       "      <td>-75.1875</td>\n",
       "      <td>NaN</td>\n",
       "      <td>3063.0</td>\n",
       "      <td>2015-06-30 23:53:00</td>\n",
       "      <td>Walk-up</td>\n",
       "      <td>0.0</td>\n",
       "      <td>...</td>\n",
       "      <td>-75.1875</td>\n",
       "      <td>NaN</td>\n",
       "      <td>3063.0</td>\n",
       "      <td>2015-06-30 23:49:00</td>\n",
       "      <td>4150101</td>\n",
       "      <td>Round Trip</td>\n",
       "      <td>2015-06-30</td>\n",
       "      <td>2015</td>\n",
       "      <td>6</td>\n",
       "      <td>1</td>\n",
       "    </tr>\n",
       "  </tbody>\n",
       "</table>\n",
       "<p>3503654 rows × 21 columns</p>\n",
       "</div>"
      ],
      "text/plain": [
       "       bike_id bike_type  duration   end_lat  end_lon  end_station  \\\n",
       "0        11908  standard        30  39.93750 -75.1875       3063.0   \n",
       "1        05382  standard         7  39.93750 -75.1875       3064.0   \n",
       "2        11930  standard         6  39.93750 -75.1875       3064.0   \n",
       "3        05225  standard         6  39.93750 -75.1875       3007.0   \n",
       "4        03379  standard         6  39.96875 -75.1875       3035.0   \n",
       "...        ...       ...       ...       ...      ...          ...   \n",
       "119554    2523       NaN       480  39.93750 -75.1250          NaN   \n",
       "119555    2629       NaN       960  39.93750 -75.1875          NaN   \n",
       "119556    3689       NaN       420  39.93750 -75.1875          NaN   \n",
       "119557    3709       NaN       480  39.93750 -75.1875          NaN   \n",
       "119558    3701       NaN       240  39.93750 -75.1875          NaN   \n",
       "\n",
       "        end_station_id            end_time passholder_type  plan_duration  \\\n",
       "0                  NaN 2018-10-01 00:33:00        Indego30           30.0   \n",
       "1                  NaN 2018-10-01 00:13:00        Indego30           30.0   \n",
       "2                  NaN 2018-10-01 00:13:00        Indego30           30.0   \n",
       "3                  NaN 2018-10-01 00:20:00        Indego30           30.0   \n",
       "4                  NaN 2018-10-01 00:23:00        Indego30           30.0   \n",
       "...                ...                 ...             ...            ...   \n",
       "119554          3028.0 2015-06-30 23:33:00        Indego30           30.0   \n",
       "119555          3025.0 2015-06-30 23:49:00        Indego30           30.0   \n",
       "119556          3045.0 2015-06-30 23:48:00        Indego30           30.0   \n",
       "119557          3045.0 2015-06-30 23:56:00        Indego30           30.0   \n",
       "119558          3063.0 2015-06-30 23:53:00         Walk-up            0.0   \n",
       "\n",
       "        ...  start_lon  start_station  start_station_id          start_time  \\\n",
       "0       ...   -75.1875         3038.0               NaN 2018-10-01 00:03:00   \n",
       "1       ...   -75.1875         3032.0               NaN 2018-10-01 00:06:00   \n",
       "2       ...   -75.1875         3032.0               NaN 2018-10-01 00:07:00   \n",
       "3       ...   -75.1875         3025.0               NaN 2018-10-01 00:14:00   \n",
       "4       ...   -75.1875         3029.0               NaN 2018-10-01 00:17:00   \n",
       "...     ...        ...            ...               ...                 ...   \n",
       "119554  ...   -75.1250            NaN            3026.0 2015-06-30 23:25:00   \n",
       "119555  ...   -75.1875            NaN            3022.0 2015-06-30 23:33:00   \n",
       "119556  ...   -75.1875            NaN            3023.0 2015-06-30 23:41:00   \n",
       "119557  ...   -75.1250            NaN            3026.0 2015-06-30 23:48:00   \n",
       "119558  ...   -75.1875            NaN            3063.0 2015-06-30 23:49:00   \n",
       "\n",
       "          trip_id  trip_route_category        Date  Year  Month  Day  \n",
       "0       299955254              One Way  2018-10-01  2018     10    0  \n",
       "1       299955253              One Way  2018-10-01  2018     10    0  \n",
       "2       299955252              One Way  2018-10-01  2018     10    0  \n",
       "3       299955251              One Way  2018-10-01  2018     10    0  \n",
       "4       299955250              One Way  2018-10-01  2018     10    0  \n",
       "...           ...                  ...         ...   ...    ...  ...  \n",
       "119554    4150090              One Way  2015-06-30  2015      6    1  \n",
       "119555    4150097              One Way  2015-06-30  2015      6    1  \n",
       "119556    4150099              One Way  2015-06-30  2015      6    1  \n",
       "119557    4150100              One Way  2015-06-30  2015      6    1  \n",
       "119558    4150101           Round Trip  2015-06-30  2015      6    1  \n",
       "\n",
       "[3503654 rows x 21 columns]"
      ]
     },
     "execution_count": 7,
     "metadata": {},
     "output_type": "execute_result"
    }
   ],
   "source": [
    "pickle_off_bike = open(\"Bikes.pickle\",\"rb\")\n",
    "BikesPickle = pickle.load(pickle_off_bike)\n",
    "BikesPickle"
   ]
  },
  {
   "cell_type": "markdown",
   "metadata": {},
   "source": [
    "# EDA"
   ]
  },
  {
   "cell_type": "code",
   "execution_count": 6,
   "metadata": {},
   "outputs": [],
   "source": [
    "# get a count of the number of rides per day (based on the date during the end time of the ride)\n",
    "\n",
    "Daily_count = BikesPickle.groupby('Date')[['end_time']].count()"
   ]
  },
  {
   "cell_type": "code",
   "execution_count": 7,
   "metadata": {},
   "outputs": [
    {
     "data": {
      "text/html": [
       "<div>\n",
       "<style scoped>\n",
       "    .dataframe tbody tr th:only-of-type {\n",
       "        vertical-align: middle;\n",
       "    }\n",
       "\n",
       "    .dataframe tbody tr th {\n",
       "        vertical-align: top;\n",
       "    }\n",
       "\n",
       "    .dataframe thead th {\n",
       "        text-align: right;\n",
       "    }\n",
       "</style>\n",
       "<table border=\"1\" class=\"dataframe\">\n",
       "  <thead>\n",
       "    <tr style=\"text-align: right;\">\n",
       "      <th></th>\n",
       "      <th>end_time</th>\n",
       "    </tr>\n",
       "    <tr>\n",
       "      <th>Date</th>\n",
       "      <th></th>\n",
       "    </tr>\n",
       "  </thead>\n",
       "  <tbody>\n",
       "    <tr>\n",
       "      <th>2015-04-23</th>\n",
       "      <td>398</td>\n",
       "    </tr>\n",
       "    <tr>\n",
       "      <th>2015-04-24</th>\n",
       "      <td>723</td>\n",
       "    </tr>\n",
       "    <tr>\n",
       "      <th>2015-04-25</th>\n",
       "      <td>1108</td>\n",
       "    </tr>\n",
       "    <tr>\n",
       "      <th>2015-04-26</th>\n",
       "      <td>1277</td>\n",
       "    </tr>\n",
       "    <tr>\n",
       "      <th>2015-04-27</th>\n",
       "      <td>809</td>\n",
       "    </tr>\n",
       "    <tr>\n",
       "      <th>...</th>\n",
       "      <td>...</td>\n",
       "    </tr>\n",
       "    <tr>\n",
       "      <th>2019-12-27</th>\n",
       "      <td>1318</td>\n",
       "    </tr>\n",
       "    <tr>\n",
       "      <th>2019-12-28</th>\n",
       "      <td>1000</td>\n",
       "    </tr>\n",
       "    <tr>\n",
       "      <th>2019-12-29</th>\n",
       "      <td>543</td>\n",
       "    </tr>\n",
       "    <tr>\n",
       "      <th>2019-12-30</th>\n",
       "      <td>577</td>\n",
       "    </tr>\n",
       "    <tr>\n",
       "      <th>2019-12-31</th>\n",
       "      <td>1208</td>\n",
       "    </tr>\n",
       "  </tbody>\n",
       "</table>\n",
       "<p>1712 rows × 1 columns</p>\n",
       "</div>"
      ],
      "text/plain": [
       "            end_time\n",
       "Date                \n",
       "2015-04-23       398\n",
       "2015-04-24       723\n",
       "2015-04-25      1108\n",
       "2015-04-26      1277\n",
       "2015-04-27       809\n",
       "...              ...\n",
       "2019-12-27      1318\n",
       "2019-12-28      1000\n",
       "2019-12-29       543\n",
       "2019-12-30       577\n",
       "2019-12-31      1208\n",
       "\n",
       "[1712 rows x 1 columns]"
      ]
     },
     "execution_count": 7,
     "metadata": {},
     "output_type": "execute_result"
    }
   ],
   "source": [
    "Daily_count"
   ]
  },
  {
   "cell_type": "code",
   "execution_count": 8,
   "metadata": {},
   "outputs": [],
   "source": [
    "# merge this count dataframe with our weather dataframe \n",
    "\n",
    "PhillyWeatherCount = pd.merge(PhillyWeatherPickle, Daily_count, how = 'inner', \n",
    "                              left_on = PhillyWeatherPickle['Date'].dt.date, right_on = 'Date')"
   ]
  },
  {
   "cell_type": "code",
   "execution_count": 9,
   "metadata": {},
   "outputs": [],
   "source": [
    "PhillyWeatherCount = PhillyWeatherCount.rename(columns = {'end_time' : 'Count'})"
   ]
  },
  {
   "cell_type": "code",
   "execution_count": 10,
   "metadata": {},
   "outputs": [
    {
     "name": "stdout",
     "output_type": "stream",
     "text": [
      "<class 'pandas.core.frame.DataFrame'>\n",
      "Int64Index: 1710 entries, 0 to 1709\n",
      "Data columns (total 44 columns):\n",
      " #   Column                                 Non-Null Count  Dtype         \n",
      "---  ------                                 --------------  -----         \n",
      " 0   Date                                   1710 non-null   datetime64[ns]\n",
      " 1   temperature                            1710 non-null   object        \n",
      " 2   precip_intensity                       1710 non-null   object        \n",
      " 3   precip_probability                     1710 non-null   object        \n",
      " 4   wind_speed                             1710 non-null   object        \n",
      " 5   humidity                               1710 non-null   object        \n",
      " 6   mean_temperature                       1710 non-null   object        \n",
      " 7   temperature6am                         1710 non-null   object        \n",
      " 8   temperatureNoon                        1710 non-null   object        \n",
      " 9   temperature6pm                         1710 non-null   object        \n",
      " 10  mean_precip_chance                     1710 non-null   object        \n",
      " 11  cumulative_rain                        1710 non-null   object        \n",
      " 12  mean_wind_speed                        1710 non-null   object        \n",
      " 13  mean_humidity                          1710 non-null   object        \n",
      " 14  Year                                   1710 non-null   int64         \n",
      " 15  Month                                  1710 non-null   int64         \n",
      " 16  Day                                    1710 non-null   int64         \n",
      " 17  summary_Clear                          1710 non-null   uint8         \n",
      " 18  summary_Drizzle                        1710 non-null   uint8         \n",
      " 19  summary_Foggy                          1710 non-null   uint8         \n",
      " 20  summary_Heavy Rain                     1710 non-null   uint8         \n",
      " 21  summary_Heavy Snow                     1710 non-null   uint8         \n",
      " 22  summary_Humid                          1710 non-null   uint8         \n",
      " 23  summary_Humid and Mostly Cloudy        1710 non-null   uint8         \n",
      " 24  summary_Humid and Overcast             1710 non-null   uint8         \n",
      " 25  summary_Humid and Partly Cloudy        1710 non-null   uint8         \n",
      " 26  summary_Light Rain                     1710 non-null   uint8         \n",
      " 27  summary_Light Rain and Humid           1710 non-null   uint8         \n",
      " 28  summary_Light Snow                     1710 non-null   uint8         \n",
      " 29  summary_Mostly Cloudy                  1710 non-null   uint8         \n",
      " 30  summary_Overcast                       1710 non-null   uint8         \n",
      " 31  summary_Partly Cloudy                  1710 non-null   uint8         \n",
      " 32  summary_Possible Drizzle               1710 non-null   uint8         \n",
      " 33  summary_Possible Drizzle and Humid     1710 non-null   uint8         \n",
      " 34  summary_Possible Flurries              1710 non-null   uint8         \n",
      " 35  summary_Possible Light Rain            1710 non-null   uint8         \n",
      " 36  summary_Possible Light Rain and Humid  1710 non-null   uint8         \n",
      " 37  summary_Possible Light Snow            1710 non-null   uint8         \n",
      " 38  summary_Rain                           1710 non-null   uint8         \n",
      " 39  summary_Rain and Humid                 1710 non-null   uint8         \n",
      " 40  summary_Rain and Windy                 1710 non-null   uint8         \n",
      " 41  summary_Snow                           1710 non-null   uint8         \n",
      " 42  summary_Windy                          1710 non-null   uint8         \n",
      " 43  Count                                  1710 non-null   int64         \n",
      "dtypes: datetime64[ns](1), int64(4), object(13), uint8(26)\n",
      "memory usage: 297.2+ KB\n"
     ]
    }
   ],
   "source": [
    "PhillyWeatherCount.info()"
   ]
  },
  {
   "cell_type": "code",
   "execution_count": 11,
   "metadata": {},
   "outputs": [
    {
     "data": {
      "text/html": [
       "<div>\n",
       "<style scoped>\n",
       "    .dataframe tbody tr th:only-of-type {\n",
       "        vertical-align: middle;\n",
       "    }\n",
       "\n",
       "    .dataframe tbody tr th {\n",
       "        vertical-align: top;\n",
       "    }\n",
       "\n",
       "    .dataframe thead th {\n",
       "        text-align: right;\n",
       "    }\n",
       "</style>\n",
       "<table border=\"1\" class=\"dataframe\">\n",
       "  <thead>\n",
       "    <tr style=\"text-align: right;\">\n",
       "      <th></th>\n",
       "      <th>Date</th>\n",
       "      <th>temperature</th>\n",
       "      <th>precip_intensity</th>\n",
       "      <th>precip_probability</th>\n",
       "      <th>wind_speed</th>\n",
       "      <th>humidity</th>\n",
       "      <th>mean_temperature</th>\n",
       "      <th>temperature6am</th>\n",
       "      <th>temperatureNoon</th>\n",
       "      <th>temperature6pm</th>\n",
       "      <th>...</th>\n",
       "      <th>summary_Possible Flurries</th>\n",
       "      <th>summary_Possible Light Rain</th>\n",
       "      <th>summary_Possible Light Rain and Humid</th>\n",
       "      <th>summary_Possible Light Snow</th>\n",
       "      <th>summary_Rain</th>\n",
       "      <th>summary_Rain and Humid</th>\n",
       "      <th>summary_Rain and Windy</th>\n",
       "      <th>summary_Snow</th>\n",
       "      <th>summary_Windy</th>\n",
       "      <th>Count</th>\n",
       "    </tr>\n",
       "  </thead>\n",
       "  <tbody>\n",
       "    <tr>\n",
       "      <th>0</th>\n",
       "      <td>2018-10-01</td>\n",
       "      <td>63.2</td>\n",
       "      <td>0</td>\n",
       "      <td>0</td>\n",
       "      <td>1.59</td>\n",
       "      <td>0.81</td>\n",
       "      <td>70.4629</td>\n",
       "      <td>61.41</td>\n",
       "      <td>76.3</td>\n",
       "      <td>79.39</td>\n",
       "      <td>...</td>\n",
       "      <td>0</td>\n",
       "      <td>0</td>\n",
       "      <td>0</td>\n",
       "      <td>0</td>\n",
       "      <td>0</td>\n",
       "      <td>0</td>\n",
       "      <td>0</td>\n",
       "      <td>0</td>\n",
       "      <td>0</td>\n",
       "      <td>2784</td>\n",
       "    </tr>\n",
       "    <tr>\n",
       "      <th>1</th>\n",
       "      <td>2018-10-02</td>\n",
       "      <td>68.41</td>\n",
       "      <td>0</td>\n",
       "      <td>0</td>\n",
       "      <td>2.32</td>\n",
       "      <td>0.92</td>\n",
       "      <td>70.3371</td>\n",
       "      <td>66.77</td>\n",
       "      <td>78.05</td>\n",
       "      <td>80.33</td>\n",
       "      <td>...</td>\n",
       "      <td>0</td>\n",
       "      <td>0</td>\n",
       "      <td>0</td>\n",
       "      <td>0</td>\n",
       "      <td>0</td>\n",
       "      <td>0</td>\n",
       "      <td>0</td>\n",
       "      <td>0</td>\n",
       "      <td>0</td>\n",
       "      <td>2794</td>\n",
       "    </tr>\n",
       "    <tr>\n",
       "      <th>2</th>\n",
       "      <td>2018-10-03</td>\n",
       "      <td>65.33</td>\n",
       "      <td>0.0686</td>\n",
       "      <td>0.92</td>\n",
       "      <td>3.72</td>\n",
       "      <td>0.97</td>\n",
       "      <td>69.0888</td>\n",
       "      <td>64.79</td>\n",
       "      <td>71.29</td>\n",
       "      <td>77.14</td>\n",
       "      <td>...</td>\n",
       "      <td>0</td>\n",
       "      <td>0</td>\n",
       "      <td>0</td>\n",
       "      <td>0</td>\n",
       "      <td>1</td>\n",
       "      <td>0</td>\n",
       "      <td>0</td>\n",
       "      <td>0</td>\n",
       "      <td>0</td>\n",
       "      <td>2811</td>\n",
       "    </tr>\n",
       "    <tr>\n",
       "      <th>3</th>\n",
       "      <td>2018-10-04</td>\n",
       "      <td>65.01</td>\n",
       "      <td>0</td>\n",
       "      <td>0</td>\n",
       "      <td>1.79</td>\n",
       "      <td>0.77</td>\n",
       "      <td>71.2529</td>\n",
       "      <td>62.8</td>\n",
       "      <td>72.78</td>\n",
       "      <td>82.43</td>\n",
       "      <td>...</td>\n",
       "      <td>0</td>\n",
       "      <td>0</td>\n",
       "      <td>0</td>\n",
       "      <td>0</td>\n",
       "      <td>0</td>\n",
       "      <td>0</td>\n",
       "      <td>0</td>\n",
       "      <td>0</td>\n",
       "      <td>0</td>\n",
       "      <td>2478</td>\n",
       "    </tr>\n",
       "    <tr>\n",
       "      <th>4</th>\n",
       "      <td>2018-10-05</td>\n",
       "      <td>73.57</td>\n",
       "      <td>0.0002</td>\n",
       "      <td>0.02</td>\n",
       "      <td>2.6</td>\n",
       "      <td>0.9</td>\n",
       "      <td>66.0721</td>\n",
       "      <td>64.93</td>\n",
       "      <td>63.89</td>\n",
       "      <td>67.52</td>\n",
       "      <td>...</td>\n",
       "      <td>0</td>\n",
       "      <td>0</td>\n",
       "      <td>0</td>\n",
       "      <td>0</td>\n",
       "      <td>0</td>\n",
       "      <td>0</td>\n",
       "      <td>0</td>\n",
       "      <td>0</td>\n",
       "      <td>0</td>\n",
       "      <td>2643</td>\n",
       "    </tr>\n",
       "  </tbody>\n",
       "</table>\n",
       "<p>5 rows × 44 columns</p>\n",
       "</div>"
      ],
      "text/plain": [
       "        Date temperature precip_intensity precip_probability wind_speed  \\\n",
       "0 2018-10-01        63.2                0                  0       1.59   \n",
       "1 2018-10-02       68.41                0                  0       2.32   \n",
       "2 2018-10-03       65.33           0.0686               0.92       3.72   \n",
       "3 2018-10-04       65.01                0                  0       1.79   \n",
       "4 2018-10-05       73.57           0.0002               0.02        2.6   \n",
       "\n",
       "  humidity mean_temperature temperature6am temperatureNoon temperature6pm  \\\n",
       "0     0.81          70.4629          61.41            76.3          79.39   \n",
       "1     0.92          70.3371          66.77           78.05          80.33   \n",
       "2     0.97          69.0888          64.79           71.29          77.14   \n",
       "3     0.77          71.2529           62.8           72.78          82.43   \n",
       "4      0.9          66.0721          64.93           63.89          67.52   \n",
       "\n",
       "   ... summary_Possible Flurries summary_Possible Light Rain  \\\n",
       "0  ...                         0                           0   \n",
       "1  ...                         0                           0   \n",
       "2  ...                         0                           0   \n",
       "3  ...                         0                           0   \n",
       "4  ...                         0                           0   \n",
       "\n",
       "  summary_Possible Light Rain and Humid summary_Possible Light Snow  \\\n",
       "0                                     0                           0   \n",
       "1                                     0                           0   \n",
       "2                                     0                           0   \n",
       "3                                     0                           0   \n",
       "4                                     0                           0   \n",
       "\n",
       "   summary_Rain  summary_Rain and Humid  summary_Rain and Windy  summary_Snow  \\\n",
       "0             0                       0                       0             0   \n",
       "1             0                       0                       0             0   \n",
       "2             1                       0                       0             0   \n",
       "3             0                       0                       0             0   \n",
       "4             0                       0                       0             0   \n",
       "\n",
       "   summary_Windy  Count  \n",
       "0              0   2784  \n",
       "1              0   2794  \n",
       "2              0   2811  \n",
       "3              0   2478  \n",
       "4              0   2643  \n",
       "\n",
       "[5 rows x 44 columns]"
      ]
     },
     "execution_count": 11,
     "metadata": {},
     "output_type": "execute_result"
    }
   ],
   "source": [
    "PhillyWeatherCount.head()"
   ]
  },
  {
   "cell_type": "code",
   "execution_count": 12,
   "metadata": {},
   "outputs": [],
   "source": [
    "m , b = np.polyfit(PhillyWeatherCount['mean_temperature'].astype(float).values , PhillyWeatherCount['Count'].astype(float).values , 1)"
   ]
  },
  {
   "cell_type": "code",
   "execution_count": 13,
   "metadata": {},
   "outputs": [
    {
     "data": {
      "text/plain": [
       "[<matplotlib.lines.Line2D at 0x129331590>]"
      ]
     },
     "execution_count": 13,
     "metadata": {},
     "output_type": "execute_result"
    },
    {
     "data": {
      "image/png": "[encoded data removed]",
      "text/plain": [
       "<Figure size 432x288 with 1 Axes>"
      ]
     },
     "metadata": {
      "needs_background": "light"
     },
     "output_type": "display_data"
    }
   ],
   "source": [
    "# Very clear positive trend between temperature and number of rides even if there is a fairly siginificant variance to the data\n",
    "\n",
    "plt.scatter(PhillyWeatherCount['mean_temperature'], PhillyWeatherCount['Count'])\n",
    "\n",
    "plt.plot(PhillyWeatherCount['mean_temperature'], PhillyWeatherCount['mean_temperature'] * m + b, color = 'y')"
   ]
  },
  {
   "cell_type": "code",
   "execution_count": 14,
   "metadata": {},
   "outputs": [
    {
     "data": {
      "text/plain": [
       "45.78245252011727"
      ]
     },
     "execution_count": 14,
     "metadata": {},
     "output_type": "execute_result"
    }
   ],
   "source": [
    "# for every one degree increase we're looking at an average increase of 46 rides \n",
    "\n",
    "m"
   ]
  },
  {
   "cell_type": "code",
   "execution_count": 15,
   "metadata": {},
   "outputs": [],
   "source": [
    "quick_linear_model = linear_model.LinearRegression()"
   ]
  },
  {
   "cell_type": "code",
   "execution_count": 16,
   "metadata": {},
   "outputs": [
    {
     "data": {
      "text/plain": [
       "LinearRegression(copy_X=True, fit_intercept=True, n_jobs=None, normalize=False)"
      ]
     },
     "execution_count": 16,
     "metadata": {},
     "output_type": "execute_result"
    }
   ],
   "source": [
    "quick_linear_model.fit(PhillyWeatherCount['mean_temperature'].astype(float).values.reshape(-1,1) ,\n",
    "                       PhillyWeatherCount['Count'].astype(float).values.reshape(-1,1))"
   ]
  },
  {
   "cell_type": "code",
   "execution_count": 17,
   "metadata": {},
   "outputs": [
    {
     "data": {
      "text/plain": [
       "0.4710762637175355"
      ]
     },
     "execution_count": 17,
     "metadata": {},
     "output_type": "execute_result"
    }
   ],
   "source": [
    "# Like mentioned earlier there is variability in the data leading to a low r^2 value but the trend is still visible none the less \n",
    "\n",
    "quick_linear_model.score(PhillyWeatherCount['mean_temperature'].astype(float).values.reshape(-1,1) , \n",
    "                         PhillyWeatherCount['Count'].astype(float).values.reshape(-1,1))"
   ]
  },
  {
   "cell_type": "markdown",
   "metadata": {},
   "source": [
    "# Observation : all days exceeding count of 5000 were 60 degrees or warmer"
   ]
  },
  {
   "cell_type": "code",
   "execution_count": 18,
   "metadata": {},
   "outputs": [
    {
     "data": {
      "text/plain": [
       "<matplotlib.collections.PathCollection at 0x129bdbc50>"
      ]
     },
     "execution_count": 18,
     "metadata": {},
     "output_type": "execute_result"
    },
    {
     "data": {
      "image/png": "[encoded data removed]",
      "text/plain": [
       "<Figure size 432x288 with 1 Axes>"
      ]
     },
     "metadata": {
      "needs_background": "light"
     },
     "output_type": "display_data"
    }
   ],
   "source": [
    "# stronger correlation for chance of rain than actual amount of rain\n",
    "# (large spread in data for days with no rain, seeing as with the absence of rain many other factors play a larger role)\n",
    "\n",
    "plt.scatter(PhillyWeatherCount['cumulative_rain'], PhillyWeatherCount['Count'])"
   ]
  },
  {
   "cell_type": "code",
   "execution_count": 19,
   "metadata": {},
   "outputs": [
    {
     "data": {
      "text/plain": [
       "<matplotlib.collections.PathCollection at 0x129e3e850>"
      ]
     },
     "execution_count": 19,
     "metadata": {},
     "output_type": "execute_result"
    },
    {
     "data": {
      "image/png": "[encoded data removed]",
      "text/plain": [
       "<Figure size 432x288 with 1 Axes>"
      ]
     },
     "metadata": {
      "needs_background": "light"
     },
     "output_type": "display_data"
    }
   ],
   "source": [
    "plt.scatter(PhillyWeatherCount['mean_precip_chance'], PhillyWeatherCount['Count'])"
   ]
  },
  {
   "cell_type": "code",
   "execution_count": 20,
   "metadata": {},
   "outputs": [
    {
     "data": {
      "text/plain": [
       "<matplotlib.collections.PathCollection at 0x12a3e1410>"
      ]
     },
     "execution_count": 20,
     "metadata": {},
     "output_type": "execute_result"
    },
    {
     "data": {
      "image/png": "[encoded data removed]",
      "text/plain": [
       "<Figure size 432x288 with 1 Axes>"
      ]
     },
     "metadata": {
      "needs_background": "light"
     },
     "output_type": "display_data"
    }
   ],
   "source": [
    "# Virtually no correlation between wind speeds and number of rides \n",
    "\n",
    "plt.scatter(PhillyWeatherCount['mean_wind_speed'], PhillyWeatherCount['Count'])"
   ]
  },
  {
   "cell_type": "code",
   "execution_count": 21,
   "metadata": {},
   "outputs": [
    {
     "data": {
      "text/plain": [
       "<matplotlib.collections.PathCollection at 0x12a3e1750>"
      ]
     },
     "execution_count": 21,
     "metadata": {},
     "output_type": "execute_result"
    },
    {
     "data": {
      "image/png": "[encoded data removed]",
      "text/plain": [
       "<Figure size 432x288 with 1 Axes>"
      ]
     },
     "metadata": {
      "needs_background": "light"
     },
     "output_type": "display_data"
    }
   ],
   "source": [
    "# no correlation between humidity and number of rides \n",
    "\n",
    "plt.scatter(PhillyWeatherCount['mean_humidity'], PhillyWeatherCount['Count'])"
   ]
  },
  {
   "cell_type": "code",
   "execution_count": 22,
   "metadata": {},
   "outputs": [
    {
     "name": "stdout",
     "output_type": "stream",
     "text": [
      "<class 'pandas.core.frame.DataFrame'>\n",
      "Int64Index: 1710 entries, 0 to 1709\n",
      "Data columns (total 44 columns):\n",
      " #   Column                                 Non-Null Count  Dtype         \n",
      "---  ------                                 --------------  -----         \n",
      " 0   Date                                   1710 non-null   datetime64[ns]\n",
      " 1   temperature                            1710 non-null   object        \n",
      " 2   precip_intensity                       1710 non-null   object        \n",
      " 3   precip_probability                     1710 non-null   object        \n",
      " 4   wind_speed                             1710 non-null   object        \n",
      " 5   humidity                               1710 non-null   object        \n",
      " 6   mean_temperature                       1710 non-null   object        \n",
      " 7   temperature6am                         1710 non-null   object        \n",
      " 8   temperatureNoon                        1710 non-null   object        \n",
      " 9   temperature6pm                         1710 non-null   object        \n",
      " 10  mean_precip_chance                     1710 non-null   object        \n",
      " 11  cumulative_rain                        1710 non-null   object        \n",
      " 12  mean_wind_speed                        1710 non-null   object        \n",
      " 13  mean_humidity                          1710 non-null   object        \n",
      " 14  Year                                   1710 non-null   int64         \n",
      " 15  Month                                  1710 non-null   int64         \n",
      " 16  Day                                    1710 non-null   int64         \n",
      " 17  summary_Clear                          1710 non-null   uint8         \n",
      " 18  summary_Drizzle                        1710 non-null   uint8         \n",
      " 19  summary_Foggy                          1710 non-null   uint8         \n",
      " 20  summary_Heavy Rain                     1710 non-null   uint8         \n",
      " 21  summary_Heavy Snow                     1710 non-null   uint8         \n",
      " 22  summary_Humid                          1710 non-null   uint8         \n",
      " 23  summary_Humid and Mostly Cloudy        1710 non-null   uint8         \n",
      " 24  summary_Humid and Overcast             1710 non-null   uint8         \n",
      " 25  summary_Humid and Partly Cloudy        1710 non-null   uint8         \n",
      " 26  summary_Light Rain                     1710 non-null   uint8         \n",
      " 27  summary_Light Rain and Humid           1710 non-null   uint8         \n",
      " 28  summary_Light Snow                     1710 non-null   uint8         \n",
      " 29  summary_Mostly Cloudy                  1710 non-null   uint8         \n",
      " 30  summary_Overcast                       1710 non-null   uint8         \n",
      " 31  summary_Partly Cloudy                  1710 non-null   uint8         \n",
      " 32  summary_Possible Drizzle               1710 non-null   uint8         \n",
      " 33  summary_Possible Drizzle and Humid     1710 non-null   uint8         \n",
      " 34  summary_Possible Flurries              1710 non-null   uint8         \n",
      " 35  summary_Possible Light Rain            1710 non-null   uint8         \n",
      " 36  summary_Possible Light Rain and Humid  1710 non-null   uint8         \n",
      " 37  summary_Possible Light Snow            1710 non-null   uint8         \n",
      " 38  summary_Rain                           1710 non-null   uint8         \n",
      " 39  summary_Rain and Humid                 1710 non-null   uint8         \n",
      " 40  summary_Rain and Windy                 1710 non-null   uint8         \n",
      " 41  summary_Snow                           1710 non-null   uint8         \n",
      " 42  summary_Windy                          1710 non-null   uint8         \n",
      " 43  Count                                  1710 non-null   int64         \n",
      "dtypes: datetime64[ns](1), int64(4), object(13), uint8(26)\n",
      "memory usage: 297.2+ KB\n"
     ]
    }
   ],
   "source": [
    "PhillyWeatherCount.info()"
   ]
  },
  {
   "cell_type": "code",
   "execution_count": 23,
   "metadata": {},
   "outputs": [],
   "source": [
    "us_holidays = holidays.UnitedStates()\n",
    "\n",
    "PhillyWeatherCount['Holiday'] = PhillyWeatherCount.apply(lambda x: 1 if x.Date in us_holidays else 0, axis = 1)"
   ]
  },
  {
   "cell_type": "code",
   "execution_count": 24,
   "metadata": {},
   "outputs": [
    {
     "data": {
      "text/plain": [
       "<BarContainer object of 1710 artists>"
      ]
     },
     "execution_count": 24,
     "metadata": {},
     "output_type": "execute_result"
    },
    {
     "data": {
      "image/png": "[encoded data removed]",
      "text/plain": [
       "<Figure size 432x288 with 1 Axes>"
      ]
     },
     "metadata": {
      "needs_background": "light"
     },
     "output_type": "display_data"
    }
   ],
   "source": [
    "# fairly constant number of rides throughout week with slightly greater amount on Saturdays\n",
    "\n",
    "plt.bar(PhillyWeatherCount['Day'], PhillyWeatherCount['Count'])"
   ]
  },
  {
   "cell_type": "code",
   "execution_count": 25,
   "metadata": {},
   "outputs": [
    {
     "data": {
      "text/plain": [
       "<BarContainer object of 1710 artists>"
      ]
     },
     "execution_count": 25,
     "metadata": {},
     "output_type": "execute_result"
    },
    {
     "data": {
      "image/png": "[encoded data removed]",
      "text/plain": [
       "<Figure size 432x288 with 1 Axes>"
      ]
     },
     "metadata": {
      "needs_background": "light"
     },
     "output_type": "display_data"
    }
   ],
   "source": [
    "# July, August and September clearly have greatest amounts of rides \n",
    "\n",
    "plt.bar(PhillyWeatherCount['Month'], PhillyWeatherCount['Count'])"
   ]
  },
  {
   "cell_type": "code",
   "execution_count": 26,
   "metadata": {},
   "outputs": [
    {
     "data": {
      "text/plain": [
       "<BarContainer object of 1710 artists>"
      ]
     },
     "execution_count": 26,
     "metadata": {},
     "output_type": "execute_result"
    },
    {
     "data": {
      "image/png": "[encoded data removed]",
      "text/plain": [
       "<Figure size 432x288 with 1 Axes>"
      ]
     },
     "metadata": {
      "needs_background": "light"
     },
     "output_type": "display_data"
    }
   ],
   "source": [
    "# Strong growth from 2015 to 2016 but struggles over the span from 2017-2019\n",
    "\n",
    "plt.bar(PhillyWeatherCount['Year'], PhillyWeatherCount['Count'])"
   ]
  },
  {
   "cell_type": "code",
   "execution_count": 27,
   "metadata": {},
   "outputs": [
    {
     "data": {
      "text/plain": [
       "<BarContainer object of 1710 artists>"
      ]
     },
     "execution_count": 27,
     "metadata": {},
     "output_type": "execute_result"
    },
    {
     "data": {
      "image/png": "[encoded data removed]",
      "text/plain": [
       "<Figure size 432x288 with 1 Axes>"
      ]
     },
     "metadata": {
      "needs_background": "light"
     },
     "output_type": "display_data"
    }
   ],
   "source": [
    "plt.bar(PhillyWeatherCount['Holiday'], PhillyWeatherCount['Count'])"
   ]
  },
  {
   "cell_type": "code",
   "execution_count": 28,
   "metadata": {},
   "outputs": [
    {
     "data": {
      "text/plain": [
       "52"
      ]
     },
     "execution_count": 28,
     "metadata": {},
     "output_type": "execute_result"
    }
   ],
   "source": [
    "PhillyWeatherCount['Holiday'].sum()"
   ]
  },
  {
   "cell_type": "code",
   "execution_count": 29,
   "metadata": {},
   "outputs": [
    {
     "data": {
      "text/plain": [
       "[Indego30, Walk-up, Day Pass, Indego365, IndegoFlex, One Day Pass, Two Day Pass, NaN]\n",
       "Categories (7, object): [Indego30, Walk-up, Day Pass, Indego365, IndegoFlex, One Day Pass, Two Day Pass]"
      ]
     },
     "execution_count": 29,
     "metadata": {},
     "output_type": "execute_result"
    }
   ],
   "source": [
    "BikesPickle['passholder_type'].unique()"
   ]
  },
  {
   "cell_type": "code",
   "execution_count": 30,
   "metadata": {},
   "outputs": [
    {
     "data": {
      "text/html": [
       "<div>\n",
       "<style scoped>\n",
       "    .dataframe tbody tr th:only-of-type {\n",
       "        vertical-align: middle;\n",
       "    }\n",
       "\n",
       "    .dataframe tbody tr th {\n",
       "        vertical-align: top;\n",
       "    }\n",
       "\n",
       "    .dataframe thead th {\n",
       "        text-align: right;\n",
       "    }\n",
       "</style>\n",
       "<table border=\"1\" class=\"dataframe\">\n",
       "  <thead>\n",
       "    <tr style=\"text-align: right;\">\n",
       "      <th></th>\n",
       "      <th>passholder_type</th>\n",
       "    </tr>\n",
       "    <tr>\n",
       "      <th>Day</th>\n",
       "      <th></th>\n",
       "    </tr>\n",
       "  </thead>\n",
       "  <tbody>\n",
       "    <tr>\n",
       "      <th>0</th>\n",
       "      <td>18086</td>\n",
       "    </tr>\n",
       "    <tr>\n",
       "      <th>1</th>\n",
       "      <td>14983</td>\n",
       "    </tr>\n",
       "    <tr>\n",
       "      <th>2</th>\n",
       "      <td>15737</td>\n",
       "    </tr>\n",
       "    <tr>\n",
       "      <th>3</th>\n",
       "      <td>16162</td>\n",
       "    </tr>\n",
       "    <tr>\n",
       "      <th>4</th>\n",
       "      <td>21530</td>\n",
       "    </tr>\n",
       "    <tr>\n",
       "      <th>5</th>\n",
       "      <td>46543</td>\n",
       "    </tr>\n",
       "    <tr>\n",
       "      <th>6</th>\n",
       "      <td>35663</td>\n",
       "    </tr>\n",
       "  </tbody>\n",
       "</table>\n",
       "</div>"
      ],
      "text/plain": [
       "     passholder_type\n",
       "Day                 \n",
       "0              18086\n",
       "1              14983\n",
       "2              15737\n",
       "3              16162\n",
       "4              21530\n",
       "5              46543\n",
       "6              35663"
      ]
     },
     "execution_count": 30,
     "metadata": {},
     "output_type": "execute_result"
    }
   ],
   "source": [
    "# Number of day passes purchased is much greater on weekends\n",
    "\n",
    "BikesPickle[BikesPickle['passholder_type'] == 'Day Pass'].groupby('Day')[['passholder_type']].count()"
   ]
  },
  {
   "cell_type": "code",
   "execution_count": 31,
   "metadata": {},
   "outputs": [
    {
     "data": {
      "text/html": [
       "<div>\n",
       "<style scoped>\n",
       "    .dataframe tbody tr th:only-of-type {\n",
       "        vertical-align: middle;\n",
       "    }\n",
       "\n",
       "    .dataframe tbody tr th {\n",
       "        vertical-align: top;\n",
       "    }\n",
       "\n",
       "    .dataframe thead th {\n",
       "        text-align: right;\n",
       "    }\n",
       "</style>\n",
       "<table border=\"1\" class=\"dataframe\">\n",
       "  <thead>\n",
       "    <tr style=\"text-align: right;\">\n",
       "      <th></th>\n",
       "      <th>passholder_type</th>\n",
       "    </tr>\n",
       "    <tr>\n",
       "      <th>Day</th>\n",
       "      <th></th>\n",
       "    </tr>\n",
       "  </thead>\n",
       "  <tbody>\n",
       "    <tr>\n",
       "      <th>0</th>\n",
       "      <td>403885</td>\n",
       "    </tr>\n",
       "    <tr>\n",
       "      <th>1</th>\n",
       "      <td>441231</td>\n",
       "    </tr>\n",
       "    <tr>\n",
       "      <th>2</th>\n",
       "      <td>451070</td>\n",
       "    </tr>\n",
       "    <tr>\n",
       "      <th>3</th>\n",
       "      <td>431428</td>\n",
       "    </tr>\n",
       "    <tr>\n",
       "      <th>4</th>\n",
       "      <td>416693</td>\n",
       "    </tr>\n",
       "    <tr>\n",
       "      <th>5</th>\n",
       "      <td>283572</td>\n",
       "    </tr>\n",
       "    <tr>\n",
       "      <th>6</th>\n",
       "      <td>261776</td>\n",
       "    </tr>\n",
       "  </tbody>\n",
       "</table>\n",
       "</div>"
      ],
      "text/plain": [
       "     passholder_type\n",
       "Day                 \n",
       "0             403885\n",
       "1             441231\n",
       "2             451070\n",
       "3             431428\n",
       "4             416693\n",
       "5             283572\n",
       "6             261776"
      ]
     },
     "execution_count": 31,
     "metadata": {},
     "output_type": "execute_result"
    }
   ],
   "source": [
    "# Number of rides for subscription holders is much greater during the week \n",
    "\n",
    "BikesPickle[BikesPickle['passholder_type'] == 'Indego30'].groupby('Day')[['passholder_type']].count()"
   ]
  },
  {
   "cell_type": "code",
   "execution_count": 32,
   "metadata": {},
   "outputs": [
    {
     "data": {
      "text/html": [
       "<div>\n",
       "<style scoped>\n",
       "    .dataframe tbody tr th:only-of-type {\n",
       "        vertical-align: middle;\n",
       "    }\n",
       "\n",
       "    .dataframe tbody tr th {\n",
       "        vertical-align: top;\n",
       "    }\n",
       "\n",
       "    .dataframe thead th {\n",
       "        text-align: right;\n",
       "    }\n",
       "</style>\n",
       "<table border=\"1\" class=\"dataframe\">\n",
       "  <thead>\n",
       "    <tr style=\"text-align: right;\">\n",
       "      <th></th>\n",
       "      <th>passholder_type</th>\n",
       "    </tr>\n",
       "    <tr>\n",
       "      <th>Day</th>\n",
       "      <th></th>\n",
       "    </tr>\n",
       "  </thead>\n",
       "  <tbody>\n",
       "    <tr>\n",
       "      <th>0</th>\n",
       "      <td>38247</td>\n",
       "    </tr>\n",
       "    <tr>\n",
       "      <th>1</th>\n",
       "      <td>42902</td>\n",
       "    </tr>\n",
       "    <tr>\n",
       "      <th>2</th>\n",
       "      <td>42990</td>\n",
       "    </tr>\n",
       "    <tr>\n",
       "      <th>3</th>\n",
       "      <td>41104</td>\n",
       "    </tr>\n",
       "    <tr>\n",
       "      <th>4</th>\n",
       "      <td>38970</td>\n",
       "    </tr>\n",
       "    <tr>\n",
       "      <th>5</th>\n",
       "      <td>22890</td>\n",
       "    </tr>\n",
       "    <tr>\n",
       "      <th>6</th>\n",
       "      <td>20573</td>\n",
       "    </tr>\n",
       "  </tbody>\n",
       "</table>\n",
       "</div>"
      ],
      "text/plain": [
       "     passholder_type\n",
       "Day                 \n",
       "0              38247\n",
       "1              42902\n",
       "2              42990\n",
       "3              41104\n",
       "4              38970\n",
       "5              22890\n",
       "6              20573"
      ]
     },
     "execution_count": 32,
     "metadata": {},
     "output_type": "execute_result"
    }
   ],
   "source": [
    "BikesPickle[BikesPickle['passholder_type'] == 'Indego365'].groupby('Day')[['passholder_type']].count()"
   ]
  },
  {
   "cell_type": "code",
   "execution_count": 33,
   "metadata": {},
   "outputs": [
    {
     "data": {
      "text/html": [
       "<div>\n",
       "<style scoped>\n",
       "    .dataframe tbody tr th:only-of-type {\n",
       "        vertical-align: middle;\n",
       "    }\n",
       "\n",
       "    .dataframe tbody tr th {\n",
       "        vertical-align: top;\n",
       "    }\n",
       "\n",
       "    .dataframe thead th {\n",
       "        text-align: right;\n",
       "    }\n",
       "</style>\n",
       "<table border=\"1\" class=\"dataframe\">\n",
       "  <thead>\n",
       "    <tr style=\"text-align: right;\">\n",
       "      <th></th>\n",
       "      <th>bike_id</th>\n",
       "    </tr>\n",
       "  </thead>\n",
       "  <tbody>\n",
       "    <tr>\n",
       "      <th>2679</th>\n",
       "      <td>3580</td>\n",
       "    </tr>\n",
       "    <tr>\n",
       "      <th>2706</th>\n",
       "      <td>3370</td>\n",
       "    </tr>\n",
       "    <tr>\n",
       "      <th>5351</th>\n",
       "      <td>3334</td>\n",
       "    </tr>\n",
       "    <tr>\n",
       "      <th>6725</th>\n",
       "      <td>3282</td>\n",
       "    </tr>\n",
       "    <tr>\n",
       "      <th>3724</th>\n",
       "      <td>3274</td>\n",
       "    </tr>\n",
       "    <tr>\n",
       "      <th>...</th>\n",
       "      <td>...</td>\n",
       "    </tr>\n",
       "    <tr>\n",
       "      <th>3560</th>\n",
       "      <td>1</td>\n",
       "    </tr>\n",
       "    <tr>\n",
       "      <th>03722</th>\n",
       "      <td>1</td>\n",
       "    </tr>\n",
       "    <tr>\n",
       "      <th>14635</th>\n",
       "      <td>1</td>\n",
       "    </tr>\n",
       "    <tr>\n",
       "      <th>11914</th>\n",
       "      <td>1</td>\n",
       "    </tr>\n",
       "    <tr>\n",
       "      <th>0</th>\n",
       "      <td>1</td>\n",
       "    </tr>\n",
       "  </tbody>\n",
       "</table>\n",
       "<p>3926 rows × 1 columns</p>\n",
       "</div>"
      ],
      "text/plain": [
       "       bike_id\n",
       "2679      3580\n",
       "2706      3370\n",
       "5351      3334\n",
       "6725      3282\n",
       "3724      3274\n",
       "...        ...\n",
       "3560         1\n",
       "03722        1\n",
       "14635        1\n",
       "11914        1\n",
       "0            1\n",
       "\n",
       "[3926 rows x 1 columns]"
      ]
     },
     "execution_count": 33,
     "metadata": {},
     "output_type": "execute_result"
    }
   ],
   "source": [
    "# looking at the number of rides per bike could be beneficial to help see when bikes are on the verge of being to worn and damaged to use\n",
    "\n",
    "pd.DataFrame(BikesPickle.bike_id.value_counts())"
   ]
  },
  {
   "cell_type": "code",
   "execution_count": 34,
   "metadata": {},
   "outputs": [
    {
     "name": "stdout",
     "output_type": "stream",
     "text": [
      "2015-07-20\n"
     ]
    }
   ],
   "source": [
    "print(BikesPickle.groupby('bike_id')['Date'].get_group('2679').min())"
   ]
  },
  {
   "cell_type": "code",
   "execution_count": 35,
   "metadata": {},
   "outputs": [
    {
     "data": {
      "text/plain": [
       "5956.0"
      ]
     },
     "execution_count": 35,
     "metadata": {},
     "output_type": "execute_result"
    }
   ],
   "source": [
    "BikesPickle.groupby('bike_id')['duration'].get_group('3690').sum()/60"
   ]
  },
  {
   "cell_type": "code",
   "execution_count": 36,
   "metadata": {},
   "outputs": [
    {
     "name": "stdout",
     "output_type": "stream",
     "text": [
      "Bike introduction date 2015-04-25\n",
      "Total Trips 3186\n",
      "Trips in 2015 379\n",
      "Trips in 2016 1093\n",
      "Trips in 2017 757\n",
      "Trips in 2018 353\n",
      "Trips in 2019 604\n",
      "Total hours of usage 5956.0\n"
     ]
    }
   ],
   "source": [
    "# simple function can be used to get the yearly break down of rides by bike ID along with total hourly usage \n",
    "\n",
    "def BikeUsageReport(ID):\n",
    "    print(\"Bike introduction date {}\".format(BikesPickle.groupby('bike_id')['Date'].get_group(ID).min()))\n",
    "    print(\"Total Trips {}\".format(BikesPickle[BikesPickle['bike_id'] ==  ID].bike_id.count()))\n",
    "    print(\"Trips in 2015 {}\".format(BikesPickle[(BikesPickle['bike_id'] ==  ID) & (BikesPickle['Year'] == 2015)].bike_id.count()))\n",
    "    print(\"Trips in 2016 {}\".format(BikesPickle[(BikesPickle['bike_id'] ==  ID) & (BikesPickle['Year'] == 2016)].bike_id.count()))\n",
    "    print(\"Trips in 2017 {}\".format(BikesPickle[(BikesPickle['bike_id'] ==  ID) & (BikesPickle['Year'] == 2017)].bike_id.count()))\n",
    "    print(\"Trips in 2018 {}\".format(BikesPickle[(BikesPickle['bike_id'] ==  ID) & (BikesPickle['Year'] == 2018)].bike_id.count()))\n",
    "    print(\"Trips in 2019 {}\".format(BikesPickle[(BikesPickle['bike_id'] ==  ID) & (BikesPickle['Year'] == 2019)].bike_id.count()))\n",
    "    print(\"Total hours of usage {}\".format(BikesPickle.groupby('bike_id')['duration'].get_group(str(ID)).sum()/60))\n",
    "    \n",
    "BikeUsageReport(3690)"
   ]
  },
  {
   "cell_type": "code",
   "execution_count": 37,
   "metadata": {},
   "outputs": [],
   "source": [
    "# adding a column calculating the amount of time a given ride went over the alloted time could help for calculating the amount of\n",
    "# revenue brought in this way as well as what characteristics are related to rides going over the alloted time \n",
    "\n",
    "def OverDuration(duration, plan_type):\n",
    "    threshold = 0\n",
    "    if plan_type in ['One Day Pass', 'Two Day Pass', 'Day Pass' 'Walk Up']:\n",
    "        threshold += 30\n",
    "    elif plan_type in ['Indego365', 'Indego30', 'IndegoFlex']:\n",
    "        threshold += 60\n",
    "    else:\n",
    "        pass\n",
    "    if duration > threshold:\n",
    "        time_over = duration - threshold\n",
    "    else:\n",
    "        time_over = 0\n",
    "    return time_over"
   ]
  },
  {
   "cell_type": "code",
   "execution_count": 38,
   "metadata": {},
   "outputs": [],
   "source": [
    "BikesPickle['Time_Over'] = BikesPickle.apply(lambda x: OverDuration(x['duration'],x['passholder_type']),axis=1)"
   ]
  },
  {
   "cell_type": "code",
   "execution_count": 39,
   "metadata": {},
   "outputs": [
    {
     "data": {
      "text/html": [
       "<div>\n",
       "<style scoped>\n",
       "    .dataframe tbody tr th:only-of-type {\n",
       "        vertical-align: middle;\n",
       "    }\n",
       "\n",
       "    .dataframe tbody tr th {\n",
       "        vertical-align: top;\n",
       "    }\n",
       "\n",
       "    .dataframe thead th {\n",
       "        text-align: right;\n",
       "    }\n",
       "</style>\n",
       "<table border=\"1\" class=\"dataframe\">\n",
       "  <thead>\n",
       "    <tr style=\"text-align: right;\">\n",
       "      <th></th>\n",
       "      <th>bike_id</th>\n",
       "      <th>bike_type</th>\n",
       "      <th>duration</th>\n",
       "      <th>end_lat</th>\n",
       "      <th>end_lon</th>\n",
       "      <th>end_station</th>\n",
       "      <th>end_station_id</th>\n",
       "      <th>end_time</th>\n",
       "      <th>passholder_type</th>\n",
       "      <th>plan_duration</th>\n",
       "      <th>...</th>\n",
       "      <th>start_station</th>\n",
       "      <th>start_station_id</th>\n",
       "      <th>start_time</th>\n",
       "      <th>trip_id</th>\n",
       "      <th>trip_route_category</th>\n",
       "      <th>Date</th>\n",
       "      <th>Year</th>\n",
       "      <th>Month</th>\n",
       "      <th>Day</th>\n",
       "      <th>Time_Over</th>\n",
       "    </tr>\n",
       "  </thead>\n",
       "  <tbody>\n",
       "    <tr>\n",
       "      <th>0</th>\n",
       "      <td>11908</td>\n",
       "      <td>standard</td>\n",
       "      <td>30</td>\n",
       "      <td>39.93750</td>\n",
       "      <td>-75.1875</td>\n",
       "      <td>3063.0</td>\n",
       "      <td>NaN</td>\n",
       "      <td>2018-10-01 00:33:00</td>\n",
       "      <td>Indego30</td>\n",
       "      <td>30.0</td>\n",
       "      <td>...</td>\n",
       "      <td>3038.0</td>\n",
       "      <td>NaN</td>\n",
       "      <td>2018-10-01 00:03:00</td>\n",
       "      <td>299955254</td>\n",
       "      <td>One Way</td>\n",
       "      <td>2018-10-01</td>\n",
       "      <td>2018</td>\n",
       "      <td>10</td>\n",
       "      <td>0</td>\n",
       "      <td>0</td>\n",
       "    </tr>\n",
       "    <tr>\n",
       "      <th>1</th>\n",
       "      <td>05382</td>\n",
       "      <td>standard</td>\n",
       "      <td>7</td>\n",
       "      <td>39.93750</td>\n",
       "      <td>-75.1875</td>\n",
       "      <td>3064.0</td>\n",
       "      <td>NaN</td>\n",
       "      <td>2018-10-01 00:13:00</td>\n",
       "      <td>Indego30</td>\n",
       "      <td>30.0</td>\n",
       "      <td>...</td>\n",
       "      <td>3032.0</td>\n",
       "      <td>NaN</td>\n",
       "      <td>2018-10-01 00:06:00</td>\n",
       "      <td>299955253</td>\n",
       "      <td>One Way</td>\n",
       "      <td>2018-10-01</td>\n",
       "      <td>2018</td>\n",
       "      <td>10</td>\n",
       "      <td>0</td>\n",
       "      <td>0</td>\n",
       "    </tr>\n",
       "    <tr>\n",
       "      <th>2</th>\n",
       "      <td>11930</td>\n",
       "      <td>standard</td>\n",
       "      <td>6</td>\n",
       "      <td>39.93750</td>\n",
       "      <td>-75.1875</td>\n",
       "      <td>3064.0</td>\n",
       "      <td>NaN</td>\n",
       "      <td>2018-10-01 00:13:00</td>\n",
       "      <td>Indego30</td>\n",
       "      <td>30.0</td>\n",
       "      <td>...</td>\n",
       "      <td>3032.0</td>\n",
       "      <td>NaN</td>\n",
       "      <td>2018-10-01 00:07:00</td>\n",
       "      <td>299955252</td>\n",
       "      <td>One Way</td>\n",
       "      <td>2018-10-01</td>\n",
       "      <td>2018</td>\n",
       "      <td>10</td>\n",
       "      <td>0</td>\n",
       "      <td>0</td>\n",
       "    </tr>\n",
       "    <tr>\n",
       "      <th>3</th>\n",
       "      <td>05225</td>\n",
       "      <td>standard</td>\n",
       "      <td>6</td>\n",
       "      <td>39.93750</td>\n",
       "      <td>-75.1875</td>\n",
       "      <td>3007.0</td>\n",
       "      <td>NaN</td>\n",
       "      <td>2018-10-01 00:20:00</td>\n",
       "      <td>Indego30</td>\n",
       "      <td>30.0</td>\n",
       "      <td>...</td>\n",
       "      <td>3025.0</td>\n",
       "      <td>NaN</td>\n",
       "      <td>2018-10-01 00:14:00</td>\n",
       "      <td>299955251</td>\n",
       "      <td>One Way</td>\n",
       "      <td>2018-10-01</td>\n",
       "      <td>2018</td>\n",
       "      <td>10</td>\n",
       "      <td>0</td>\n",
       "      <td>0</td>\n",
       "    </tr>\n",
       "    <tr>\n",
       "      <th>4</th>\n",
       "      <td>03379</td>\n",
       "      <td>standard</td>\n",
       "      <td>6</td>\n",
       "      <td>39.96875</td>\n",
       "      <td>-75.1875</td>\n",
       "      <td>3035.0</td>\n",
       "      <td>NaN</td>\n",
       "      <td>2018-10-01 00:23:00</td>\n",
       "      <td>Indego30</td>\n",
       "      <td>30.0</td>\n",
       "      <td>...</td>\n",
       "      <td>3029.0</td>\n",
       "      <td>NaN</td>\n",
       "      <td>2018-10-01 00:17:00</td>\n",
       "      <td>299955250</td>\n",
       "      <td>One Way</td>\n",
       "      <td>2018-10-01</td>\n",
       "      <td>2018</td>\n",
       "      <td>10</td>\n",
       "      <td>0</td>\n",
       "      <td>0</td>\n",
       "    </tr>\n",
       "  </tbody>\n",
       "</table>\n",
       "<p>5 rows × 22 columns</p>\n",
       "</div>"
      ],
      "text/plain": [
       "  bike_id bike_type  duration   end_lat  end_lon  end_station  end_station_id  \\\n",
       "0   11908  standard        30  39.93750 -75.1875       3063.0             NaN   \n",
       "1   05382  standard         7  39.93750 -75.1875       3064.0             NaN   \n",
       "2   11930  standard         6  39.93750 -75.1875       3064.0             NaN   \n",
       "3   05225  standard         6  39.93750 -75.1875       3007.0             NaN   \n",
       "4   03379  standard         6  39.96875 -75.1875       3035.0             NaN   \n",
       "\n",
       "             end_time passholder_type  plan_duration  ...  start_station  \\\n",
       "0 2018-10-01 00:33:00        Indego30           30.0  ...         3038.0   \n",
       "1 2018-10-01 00:13:00        Indego30           30.0  ...         3032.0   \n",
       "2 2018-10-01 00:13:00        Indego30           30.0  ...         3032.0   \n",
       "3 2018-10-01 00:20:00        Indego30           30.0  ...         3025.0   \n",
       "4 2018-10-01 00:23:00        Indego30           30.0  ...         3029.0   \n",
       "\n",
       "   start_station_id          start_time    trip_id trip_route_category  \\\n",
       "0               NaN 2018-10-01 00:03:00  299955254             One Way   \n",
       "1               NaN 2018-10-01 00:06:00  299955253             One Way   \n",
       "2               NaN 2018-10-01 00:07:00  299955252             One Way   \n",
       "3               NaN 2018-10-01 00:14:00  299955251             One Way   \n",
       "4               NaN 2018-10-01 00:17:00  299955250             One Way   \n",
       "\n",
       "         Date  Year Month  Day  Time_Over  \n",
       "0  2018-10-01  2018    10    0          0  \n",
       "1  2018-10-01  2018    10    0          0  \n",
       "2  2018-10-01  2018    10    0          0  \n",
       "3  2018-10-01  2018    10    0          0  \n",
       "4  2018-10-01  2018    10    0          0  \n",
       "\n",
       "[5 rows x 22 columns]"
      ]
     },
     "execution_count": 39,
     "metadata": {},
     "output_type": "execute_result"
    }
   ],
   "source": [
    "BikesPickle.head()"
   ]
  },
  {
   "cell_type": "code",
   "execution_count": 40,
   "metadata": {},
   "outputs": [
    {
     "data": {
      "text/plain": [
       "array([   30,     7,     6, ..., 44400, 76920, 63000])"
      ]
     },
     "execution_count": 40,
     "metadata": {},
     "output_type": "execute_result"
    }
   ],
   "source": [
    "# It is clear to see that future cleaning in regards to the duration column would be needed to get a more accurate\n",
    "# depiction of rides going over time and full hourly usage for bikes \n",
    "\n",
    "BikesPickle['duration'].unique()"
   ]
  },
  {
   "cell_type": "markdown",
   "metadata": {},
   "source": [
    "# Regression Model Training"
   ]
  },
  {
   "cell_type": "code",
   "execution_count": 41,
   "metadata": {},
   "outputs": [
    {
     "data": {
      "text/plain": [
       "LinearRegression(copy_X=True, fit_intercept=True, n_jobs=None, normalize=False)"
      ]
     },
     "execution_count": 41,
     "metadata": {},
     "output_type": "execute_result"
    }
   ],
   "source": [
    "linear_model.LinearRegression()"
   ]
  },
  {
   "cell_type": "code",
   "execution_count": 43,
   "metadata": {},
   "outputs": [
    {
     "data": {
      "text/plain": [
       "Index(['Date', 'temperature', 'precip_intensity', 'precip_probability',\n",
       "       'wind_speed', 'humidity', 'mean_temperature', 'temperature6am',\n",
       "       'temperatureNoon', 'temperature6pm', 'mean_precip_chance',\n",
       "       'cumulative_rain', 'mean_wind_speed', 'mean_humidity', 'Year', 'Month',\n",
       "       'Day', 'summary_Clear', 'summary_Drizzle', 'summary_Foggy',\n",
       "       'summary_Heavy Rain', 'summary_Heavy Snow', 'summary_Humid',\n",
       "       'summary_Humid and Mostly Cloudy', 'summary_Humid and Overcast',\n",
       "       'summary_Humid and Partly Cloudy', 'summary_Light Rain',\n",
       "       'summary_Light Rain and Humid', 'summary_Light Snow',\n",
       "       'summary_Mostly Cloudy', 'summary_Overcast', 'summary_Partly Cloudy',\n",
       "       'summary_Possible Drizzle', 'summary_Possible Drizzle and Humid',\n",
       "       'summary_Possible Flurries', 'summary_Possible Light Rain',\n",
       "       'summary_Possible Light Rain and Humid', 'summary_Possible Light Snow',\n",
       "       'summary_Rain', 'summary_Rain and Humid', 'summary_Rain and Windy',\n",
       "       'summary_Snow', 'summary_Windy', 'Count', 'Holiday'],\n",
       "      dtype='object')"
      ]
     },
     "execution_count": 43,
     "metadata": {},
     "output_type": "execute_result"
    }
   ],
   "source": [
    "PhillyWeatherCount.columns"
   ]
  },
  {
   "cell_type": "code",
   "execution_count": 44,
   "metadata": {},
   "outputs": [],
   "source": [
    "# Many combinations of variables were tried and ultimately mean temperature and mean chance of precipitation were the two main \n",
    "# drivers producing the most accurate models, with a binary holiday variable in order to account for that\n",
    "\n",
    "X = PhillyWeatherCount.iloc[:, [6,\n",
    "#                                7,9,\n",
    "                                10,\n",
    "#                                13,\n",
    "#                                15,\n",
    "#                                17,18,19,20,21,22,23,24,25,26,27,28,29,30,31,32,33,34,35,36,37,38,39,40,41,42,\n",
    "                                44]]"
   ]
  },
  {
   "cell_type": "code",
   "execution_count": 45,
   "metadata": {},
   "outputs": [
    {
     "data": {
      "text/html": [
       "<div>\n",
       "<style scoped>\n",
       "    .dataframe tbody tr th:only-of-type {\n",
       "        vertical-align: middle;\n",
       "    }\n",
       "\n",
       "    .dataframe tbody tr th {\n",
       "        vertical-align: top;\n",
       "    }\n",
       "\n",
       "    .dataframe thead th {\n",
       "        text-align: right;\n",
       "    }\n",
       "</style>\n",
       "<table border=\"1\" class=\"dataframe\">\n",
       "  <thead>\n",
       "    <tr style=\"text-align: right;\">\n",
       "      <th></th>\n",
       "      <th>mean_temperature</th>\n",
       "      <th>mean_precip_chance</th>\n",
       "      <th>Holiday</th>\n",
       "    </tr>\n",
       "  </thead>\n",
       "  <tbody>\n",
       "    <tr>\n",
       "      <th>0</th>\n",
       "      <td>70.4629</td>\n",
       "      <td>0.000833333</td>\n",
       "      <td>0</td>\n",
       "    </tr>\n",
       "    <tr>\n",
       "      <th>1</th>\n",
       "      <td>70.3371</td>\n",
       "      <td>0.00333333</td>\n",
       "      <td>0</td>\n",
       "    </tr>\n",
       "    <tr>\n",
       "      <th>2</th>\n",
       "      <td>69.0888</td>\n",
       "      <td>0.085</td>\n",
       "      <td>0</td>\n",
       "    </tr>\n",
       "    <tr>\n",
       "      <th>3</th>\n",
       "      <td>71.2529</td>\n",
       "      <td>0.0466667</td>\n",
       "      <td>0</td>\n",
       "    </tr>\n",
       "    <tr>\n",
       "      <th>4</th>\n",
       "      <td>66.0721</td>\n",
       "      <td>0.00458333</td>\n",
       "      <td>0</td>\n",
       "    </tr>\n",
       "  </tbody>\n",
       "</table>\n",
       "</div>"
      ],
      "text/plain": [
       "  mean_temperature mean_precip_chance  Holiday\n",
       "0          70.4629        0.000833333        0\n",
       "1          70.3371         0.00333333        0\n",
       "2          69.0888              0.085        0\n",
       "3          71.2529          0.0466667        0\n",
       "4          66.0721         0.00458333        0"
      ]
     },
     "execution_count": 45,
     "metadata": {},
     "output_type": "execute_result"
    }
   ],
   "source": [
    "X.head()"
   ]
  },
  {
   "cell_type": "code",
   "execution_count": 46,
   "metadata": {},
   "outputs": [],
   "source": [
    "Y = PhillyWeatherCount[['Count']]"
   ]
  },
  {
   "cell_type": "code",
   "execution_count": 47,
   "metadata": {},
   "outputs": [
    {
     "data": {
      "text/html": [
       "<div>\n",
       "<style scoped>\n",
       "    .dataframe tbody tr th:only-of-type {\n",
       "        vertical-align: middle;\n",
       "    }\n",
       "\n",
       "    .dataframe tbody tr th {\n",
       "        vertical-align: top;\n",
       "    }\n",
       "\n",
       "    .dataframe thead th {\n",
       "        text-align: right;\n",
       "    }\n",
       "</style>\n",
       "<table border=\"1\" class=\"dataframe\">\n",
       "  <thead>\n",
       "    <tr style=\"text-align: right;\">\n",
       "      <th></th>\n",
       "      <th>Count</th>\n",
       "    </tr>\n",
       "  </thead>\n",
       "  <tbody>\n",
       "    <tr>\n",
       "      <th>0</th>\n",
       "      <td>2784</td>\n",
       "    </tr>\n",
       "    <tr>\n",
       "      <th>1</th>\n",
       "      <td>2794</td>\n",
       "    </tr>\n",
       "    <tr>\n",
       "      <th>2</th>\n",
       "      <td>2811</td>\n",
       "    </tr>\n",
       "    <tr>\n",
       "      <th>3</th>\n",
       "      <td>2478</td>\n",
       "    </tr>\n",
       "    <tr>\n",
       "      <th>4</th>\n",
       "      <td>2643</td>\n",
       "    </tr>\n",
       "  </tbody>\n",
       "</table>\n",
       "</div>"
      ],
      "text/plain": [
       "   Count\n",
       "0   2784\n",
       "1   2794\n",
       "2   2811\n",
       "3   2478\n",
       "4   2643"
      ]
     },
     "execution_count": 47,
     "metadata": {},
     "output_type": "execute_result"
    }
   ],
   "source": [
    "Y.head()"
   ]
  },
  {
   "cell_type": "code",
   "execution_count": 48,
   "metadata": {},
   "outputs": [],
   "source": [
    "# scale our x variable and apply a logarithm to our y variable in order to minimize the data's spread and produce more accurate predictions\n",
    "\n",
    "X_scaled = scale(X)"
   ]
  },
  {
   "cell_type": "code",
   "execution_count": 49,
   "metadata": {},
   "outputs": [],
   "source": [
    "Y_scaled = np.log1p(Y)"
   ]
  },
  {
   "cell_type": "code",
   "execution_count": 50,
   "metadata": {},
   "outputs": [],
   "source": [
    "ols = linear_model.LinearRegression(normalize = True)"
   ]
  },
  {
   "cell_type": "code",
   "execution_count": 51,
   "metadata": {},
   "outputs": [],
   "source": [
    "# cross validation shows one very inaccurate iteration and the overall model is not overwhelmingly accurate and this \n",
    "# is found to be largely due to an outlier year in 2016\n",
    "\n",
    "cv = cross_validate(ols, X_scaled, Y_scaled, cv = 5, return_train_score = True, return_estimator = True)"
   ]
  },
  {
   "cell_type": "code",
   "execution_count": 52,
   "metadata": {},
   "outputs": [
    {
     "data": {
      "text/plain": [
       "array([0.53717531, 0.60980703, 0.5938533 , 0.61747199, 0.02261814])"
      ]
     },
     "execution_count": 52,
     "metadata": {},
     "output_type": "execute_result"
    }
   ],
   "source": [
    "cv['test_score']"
   ]
  },
  {
   "cell_type": "code",
   "execution_count": 53,
   "metadata": {},
   "outputs": [
    {
     "data": {
      "text/plain": [
       "array([0.58974261, 0.5937963 , 0.60750165, 0.60607657, 0.65625556])"
      ]
     },
     "execution_count": 53,
     "metadata": {},
     "output_type": "execute_result"
    }
   ],
   "source": [
    "cv['train_score']"
   ]
  },
  {
   "cell_type": "code",
   "execution_count": 54,
   "metadata": {},
   "outputs": [
    {
     "data": {
      "text/plain": [
       "LinearRegression(copy_X=True, fit_intercept=True, n_jobs=None, normalize=True)"
      ]
     },
     "execution_count": 54,
     "metadata": {},
     "output_type": "execute_result"
    }
   ],
   "source": [
    "ols.fit(X_scaled, Y_scaled)"
   ]
  },
  {
   "cell_type": "code",
   "execution_count": 55,
   "metadata": {},
   "outputs": [
    {
     "data": {
      "text/plain": [
       "array([[ 0.45020555, -0.21627478, -0.05252343]])"
      ]
     },
     "execution_count": 55,
     "metadata": {},
     "output_type": "execute_result"
    }
   ],
   "source": [
    "ols.coef_"
   ]
  },
  {
   "cell_type": "code",
   "execution_count": 56,
   "metadata": {},
   "outputs": [],
   "source": [
    "mapping = [*zip(X.columns,ols.coef_.reshape(-1,1))]"
   ]
  },
  {
   "cell_type": "code",
   "execution_count": 57,
   "metadata": {},
   "outputs": [
    {
     "data": {
      "text/plain": [
       "[('mean_temperature', array([0.45020555])),\n",
       " ('mean_precip_chance', array([-0.21627478])),\n",
       " ('Holiday', array([-0.05252343]))]"
      ]
     },
     "execution_count": 57,
     "metadata": {},
     "output_type": "execute_result"
    }
   ],
   "source": [
    "mapping"
   ]
  },
  {
   "cell_type": "code",
   "execution_count": 58,
   "metadata": {},
   "outputs": [
    {
     "data": {
      "text/plain": [
       "0.6107928327974007"
      ]
     },
     "execution_count": 58,
     "metadata": {},
     "output_type": "execute_result"
    }
   ],
   "source": [
    "ols.score(X_scaled,Y_scaled)"
   ]
  },
  {
   "cell_type": "code",
   "execution_count": 59,
   "metadata": {},
   "outputs": [
    {
     "data": {
      "text/plain": [
       "array([7.85628281])"
      ]
     },
     "execution_count": 59,
     "metadata": {},
     "output_type": "execute_result"
    }
   ],
   "source": [
    "ols.predict(X_scaled)[3]"
   ]
  },
  {
   "cell_type": "code",
   "execution_count": 60,
   "metadata": {},
   "outputs": [
    {
     "data": {
      "text/plain": [
       "Count    7.815611\n",
       "Name: 3, dtype: float64"
      ]
     },
     "execution_count": 60,
     "metadata": {},
     "output_type": "execute_result"
    }
   ],
   "source": [
    "Y_scaled.iloc[3]"
   ]
  },
  {
   "cell_type": "code",
   "execution_count": 61,
   "metadata": {},
   "outputs": [
    {
     "data": {
      "text/plain": [
       "<matplotlib.collections.PathCollection at 0x1710a3750>"
      ]
     },
     "execution_count": 61,
     "metadata": {},
     "output_type": "execute_result"
    },
    {
     "data": {
      "image/png": "[encoded data removed]",
      "text/plain": [
       "<Figure size 432x288 with 1 Axes>"
      ]
     },
     "metadata": {
      "needs_background": "light"
     },
     "output_type": "display_data"
    }
   ],
   "source": [
    "plt.scatter(PhillyWeatherCount.Date, PhillyWeatherCount.Count)"
   ]
  },
  {
   "cell_type": "code",
   "execution_count": 62,
   "metadata": {},
   "outputs": [
    {
     "data": {
      "text/plain": [
       "<matplotlib.collections.PathCollection at 0x1706cbe10>"
      ]
     },
     "execution_count": 62,
     "metadata": {},
     "output_type": "execute_result"
    },
    {
     "data": {
      "image/png": "[encoded data removed]",
      "text/plain": [
       "<Figure size 432x288 with 1 Axes>"
      ]
     },
     "metadata": {
      "needs_background": "light"
     },
     "output_type": "display_data"
    }
   ],
   "source": [
    "plt.scatter(PhillyWeatherCount.Date, np.expm1(ols.predict(X_scaled)))"
   ]
  },
  {
   "cell_type": "code",
   "execution_count": 78,
   "metadata": {
    "collapsed": true,
    "jupyter": {
     "outputs_hidden": true
    }
   },
   "outputs": [
    {
     "data": {
      "text/html": [
       "<div>\n",
       "<style scoped>\n",
       "    .dataframe tbody tr th:only-of-type {\n",
       "        vertical-align: middle;\n",
       "    }\n",
       "\n",
       "    .dataframe tbody tr th {\n",
       "        vertical-align: top;\n",
       "    }\n",
       "\n",
       "    .dataframe thead th {\n",
       "        text-align: right;\n",
       "    }\n",
       "</style>\n",
       "<table border=\"1\" class=\"dataframe\">\n",
       "  <thead>\n",
       "    <tr style=\"text-align: right;\">\n",
       "      <th></th>\n",
       "      <th>Date</th>\n",
       "      <th>Count</th>\n",
       "    </tr>\n",
       "  </thead>\n",
       "  <tbody>\n",
       "    <tr>\n",
       "      <th>1025</th>\n",
       "      <td>2016-01-25</td>\n",
       "      <td>1</td>\n",
       "    </tr>\n",
       "    <tr>\n",
       "      <th>1026</th>\n",
       "      <td>2016-01-26</td>\n",
       "      <td>6</td>\n",
       "    </tr>\n",
       "    <tr>\n",
       "      <th>619</th>\n",
       "      <td>2017-03-14</td>\n",
       "      <td>71</td>\n",
       "    </tr>\n",
       "    <tr>\n",
       "      <th>368</th>\n",
       "      <td>2018-01-04</td>\n",
       "      <td>115</td>\n",
       "    </tr>\n",
       "    <tr>\n",
       "      <th>444</th>\n",
       "      <td>2018-03-21</td>\n",
       "      <td>128</td>\n",
       "    </tr>\n",
       "    <tr>\n",
       "      <th>370</th>\n",
       "      <td>2018-01-06</td>\n",
       "      <td>153</td>\n",
       "    </tr>\n",
       "    <tr>\n",
       "      <th>553</th>\n",
       "      <td>2017-01-07</td>\n",
       "      <td>153</td>\n",
       "    </tr>\n",
       "    <tr>\n",
       "      <th>430</th>\n",
       "      <td>2018-03-07</td>\n",
       "      <td>155</td>\n",
       "    </tr>\n",
       "    <tr>\n",
       "      <th>540</th>\n",
       "      <td>2017-12-25</td>\n",
       "      <td>158</td>\n",
       "    </tr>\n",
       "    <tr>\n",
       "      <th>1045</th>\n",
       "      <td>2016-02-14</td>\n",
       "      <td>178</td>\n",
       "    </tr>\n",
       "    <tr>\n",
       "      <th>554</th>\n",
       "      <td>2017-01-08</td>\n",
       "      <td>190</td>\n",
       "    </tr>\n",
       "    <tr>\n",
       "      <th>371</th>\n",
       "      <td>2018-01-07</td>\n",
       "      <td>197</td>\n",
       "    </tr>\n",
       "    <tr>\n",
       "      <th>545</th>\n",
       "      <td>2017-12-30</td>\n",
       "      <td>205</td>\n",
       "    </tr>\n",
       "    <tr>\n",
       "      <th>365</th>\n",
       "      <td>2018-01-01</td>\n",
       "      <td>206</td>\n",
       "    </tr>\n",
       "    <tr>\n",
       "      <th>1046</th>\n",
       "      <td>2016-02-15</td>\n",
       "      <td>206</td>\n",
       "    </tr>\n",
       "  </tbody>\n",
       "</table>\n",
       "</div>"
      ],
      "text/plain": [
       "           Date  Count\n",
       "1025 2016-01-25      1\n",
       "1026 2016-01-26      6\n",
       "619  2017-03-14     71\n",
       "368  2018-01-04    115\n",
       "444  2018-03-21    128\n",
       "370  2018-01-06    153\n",
       "553  2017-01-07    153\n",
       "430  2018-03-07    155\n",
       "540  2017-12-25    158\n",
       "1045 2016-02-14    178\n",
       "554  2017-01-08    190\n",
       "371  2018-01-07    197\n",
       "545  2017-12-30    205\n",
       "365  2018-01-01    206\n",
       "1046 2016-02-15    206"
      ]
     },
     "execution_count": 78,
     "metadata": {},
     "output_type": "execute_result"
    }
   ],
   "source": [
    "PhillyWeatherCount.sort_values('Count')[['Date','Count']].head(15)"
   ]
  },
  {
   "cell_type": "code",
   "execution_count": 64,
   "metadata": {},
   "outputs": [],
   "source": [
    "# training a model on the more recent data where a clear pattern is emerging gives us much more accurate predictions \n",
    "\n",
    "X_recent = PhillyWeatherCount[PhillyWeatherCount['Year'] >= 2017].iloc[:, [6,\n",
    "#                                7,9,\n",
    "                                10,\n",
    "#                                13,\n",
    "#                                15,\n",
    "#                                17,18,19,20,21,22,23,24,25,26,27,28,29,30,31,32,33,34,35,36,37,38,39,40,41,42,\n",
    "                                44]]"
   ]
  },
  {
   "cell_type": "code",
   "execution_count": 65,
   "metadata": {},
   "outputs": [],
   "source": [
    "Y_recent = PhillyWeatherCount[PhillyWeatherCount['Year'] >= 2017][['Count']]"
   ]
  },
  {
   "cell_type": "code",
   "execution_count": 66,
   "metadata": {},
   "outputs": [],
   "source": [
    "X_recent_scaled = scale(X_recent)"
   ]
  },
  {
   "cell_type": "code",
   "execution_count": 67,
   "metadata": {},
   "outputs": [],
   "source": [
    "Y_recent_scaled = np.log1p(Y_recent)"
   ]
  },
  {
   "cell_type": "code",
   "execution_count": 68,
   "metadata": {},
   "outputs": [],
   "source": [
    "X_train, X_test, Y_train, Y_test = train_test_split(X_recent_scaled, Y_recent_scaled)"
   ]
  },
  {
   "cell_type": "code",
   "execution_count": 69,
   "metadata": {},
   "outputs": [],
   "source": [
    "ols_recent = linear_model.LinearRegression()"
   ]
  },
  {
   "cell_type": "code",
   "execution_count": 79,
   "metadata": {},
   "outputs": [],
   "source": [
    "cv_recent = cross_validate(ols_recent, X_recent_scaled, Y_recent_scaled, cv = 5, return_train_score = True, return_estimator = True)"
   ]
  },
  {
   "cell_type": "code",
   "execution_count": 83,
   "metadata": {},
   "outputs": [
    {
     "data": {
      "text/plain": [
       "array([0.62627049, 0.65031093, 0.73971217, 0.69867778, 0.35542401])"
      ]
     },
     "execution_count": 83,
     "metadata": {},
     "output_type": "execute_result"
    }
   ],
   "source": [
    "cv_recent['test_score']"
   ]
  },
  {
   "cell_type": "code",
   "execution_count": 84,
   "metadata": {},
   "outputs": [
    {
     "data": {
      "text/plain": [
       "array([0.74305166, 0.75071523, 0.71991849, 0.71693874, 0.71283136])"
      ]
     },
     "execution_count": 84,
     "metadata": {},
     "output_type": "execute_result"
    }
   ],
   "source": [
    "cv_recent['train_score']"
   ]
  },
  {
   "cell_type": "code",
   "execution_count": 70,
   "metadata": {},
   "outputs": [
    {
     "data": {
      "text/plain": [
       "LinearRegression(copy_X=True, fit_intercept=True, n_jobs=None, normalize=False)"
      ]
     },
     "execution_count": 70,
     "metadata": {},
     "output_type": "execute_result"
    }
   ],
   "source": [
    "ols_recent.fit(X_train, Y_train)"
   ]
  },
  {
   "cell_type": "code",
   "execution_count": 71,
   "metadata": {},
   "outputs": [
    {
     "data": {
      "text/plain": [
       "0.7021096608241807"
      ]
     },
     "execution_count": 71,
     "metadata": {},
     "output_type": "execute_result"
    }
   ],
   "source": [
    "ols_recent.score(X_test, Y_test)"
   ]
  },
  {
   "cell_type": "code",
   "execution_count": 72,
   "metadata": {},
   "outputs": [
    {
     "data": {
      "text/plain": [
       "<matplotlib.collections.PathCollection at 0x1646bec90>"
      ]
     },
     "execution_count": 72,
     "metadata": {},
     "output_type": "execute_result"
    },
    {
     "data": {
      "image/png": "[encoded data removed]",
      "text/plain": [
       "<Figure size 432x288 with 1 Axes>"
      ]
     },
     "metadata": {
      "needs_background": "light"
     },
     "output_type": "display_data"
    }
   ],
   "source": [
    "plt.scatter(PhillyWeatherCount[PhillyWeatherCount['Year'] >= 2017].Date, PhillyWeatherCount[PhillyWeatherCount['Year'] >= 2017].Count)"
   ]
  },
  {
   "cell_type": "code",
   "execution_count": 73,
   "metadata": {},
   "outputs": [
    {
     "data": {
      "text/plain": [
       "<matplotlib.collections.PathCollection at 0x1646ab490>"
      ]
     },
     "execution_count": 73,
     "metadata": {},
     "output_type": "execute_result"
    },
    {
     "data": {
      "image/png": "[encoded data removed]",
      "text/plain": [
       "<Figure size 432x288 with 1 Axes>"
      ]
     },
     "metadata": {
      "needs_background": "light"
     },
     "output_type": "display_data"
    }
   ],
   "source": [
    "# provide the inverse of the log function so we can more accurately compare our models predictions to the true values \n",
    "\n",
    "plt.scatter(PhillyWeatherCount[PhillyWeatherCount['Year'] >= 2017].Date, np.expm1(ols_recent.predict(X_recent_scaled)))"
   ]
  },
  {
   "cell_type": "code",
   "execution_count": 74,
   "metadata": {},
   "outputs": [],
   "source": [
    "y_pred = ols_recent.predict(X_test)"
   ]
  },
  {
   "cell_type": "code",
   "execution_count": 75,
   "metadata": {},
   "outputs": [],
   "source": [
    "mse = MSE(np.expm1(y_pred), np.expm1(Y_test))"
   ]
  },
  {
   "cell_type": "code",
   "execution_count": 76,
   "metadata": {},
   "outputs": [],
   "source": [
    "rmse = mse**0.5"
   ]
  },
  {
   "cell_type": "code",
   "execution_count": 77,
   "metadata": {},
   "outputs": [
    {
     "name": "stdout",
     "output_type": "stream",
     "text": [
      "323875.00087119715\n",
      "569.1001676956326\n"
     ]
    }
   ],
   "source": [
    "# our root mean square error ultimately ends up being relatively low given the spread of the ride counts\n",
    "\n",
    "print(mse)\n",
    "print(rmse)"
   ]
  },
  {
   "cell_type": "code",
   "execution_count": null,
   "metadata": {},
   "outputs": [],
   "source": []
  }
 ],
 "metadata": {
  "kernelspec": {
   "display_name": "Python 3",
   "language": "python",
   "name": "python3"
  },
  "language_info": {
   "codemirror_mode": {
    "name": "ipython",
    "version": 3
   },
   "file_extension": ".py",
   "mimetype": "text/x-python",
   "name": "python",
   "nbconvert_exporter": "python",
   "pygments_lexer": "ipython3",
   "version": "3.7.7"
  }
 },
 "nbformat": 4,
 "nbformat_minor": 4
}
